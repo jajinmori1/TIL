{
 "cells": [
  {
   "cell_type": "markdown",
   "metadata": {},
   "source": [
    "### Chapter 3. Test Data:Flattening, Filtering and Chunking"
   ]
  },
  {
   "cell_type": "code",
   "execution_count": 1,
   "metadata": {},
   "outputs": [],
   "source": [
    "import pandas as pd\n",
    "import json\n",
    "from sklearn.feature_extraction.text import CountVectorizer"
   ]
  },
  {
   "cell_type": "code",
   "execution_count": 58,
   "metadata": {},
   "outputs": [],
   "source": [
    "import matplotlib.pyplot as plt\n",
    "import seaborn as sns\n",
    "sns.set()\n",
    "# sns.set(rc = {'figure.figsize':(15,8)})\n",
    "\n",
    "%matplotlib inline "
   ]
  },
  {
   "cell_type": "markdown",
   "metadata": {},
   "source": [
    "Example 3-1. Computing n-grams"
   ]
  },
  {
   "cell_type": "code",
   "execution_count": 3,
   "metadata": {},
   "outputs": [],
   "source": [
    "def load_json_df(filename, num_bytes = -1):\n",
    "    '''Load the first `num_bytes` of the filename as a json blob, convert each line into a row in a Pandas data frame.'''\n",
    "    # windows에서 실행하는 경우 기본 인코딩이 cp949 이므로 encoding 값 지정해야 함.\n",
    "    fs = open(filename, encoding='utf-8')\n",
    "    df = pd.DataFrame([json.loads(x) for x in fs.readlines(num_bytes)])\n",
    "    fs.close()\n",
    "    return df"
   ]
  },
  {
   "cell_type": "code",
   "execution_count": 4,
   "metadata": {},
   "outputs": [
    {
     "data": {
      "text/plain": [
       "(15585, 15)"
      ]
     },
     "execution_count": 4,
     "metadata": {},
     "output_type": "execute_result"
    }
   ],
   "source": [
    "biz_df = load_json_df('data\\yelp_academic_dataset_business.json')\n",
    "biz_df.shape\n"
   ]
  },
  {
   "cell_type": "code",
   "execution_count": 5,
   "metadata": {},
   "outputs": [
    {
     "data": {
      "text/html": [
       "<div>\n",
       "<style scoped>\n",
       "    .dataframe tbody tr th:only-of-type {\n",
       "        vertical-align: middle;\n",
       "    }\n",
       "\n",
       "    .dataframe tbody tr th {\n",
       "        vertical-align: top;\n",
       "    }\n",
       "\n",
       "    .dataframe thead th {\n",
       "        text-align: right;\n",
       "    }\n",
       "</style>\n",
       "<table border=\"1\" class=\"dataframe\">\n",
       "  <thead>\n",
       "    <tr style=\"text-align: right;\">\n",
       "      <th></th>\n",
       "      <th>business_id</th>\n",
       "      <th>full_address</th>\n",
       "      <th>hours</th>\n",
       "      <th>open</th>\n",
       "      <th>categories</th>\n",
       "      <th>city</th>\n",
       "      <th>review_count</th>\n",
       "      <th>name</th>\n",
       "      <th>neighborhoods</th>\n",
       "      <th>longitude</th>\n",
       "      <th>state</th>\n",
       "      <th>stars</th>\n",
       "      <th>latitude</th>\n",
       "      <th>attributes</th>\n",
       "      <th>type</th>\n",
       "    </tr>\n",
       "  </thead>\n",
       "  <tbody>\n",
       "    <tr>\n",
       "      <th>0</th>\n",
       "      <td>O_X3PGhk3Y5JWVi866qlJg</td>\n",
       "      <td>1501 W Bell Rd\\nPhoenix, AZ 85023</td>\n",
       "      <td>{'Monday': {'close': '18:00', 'open': '11:00'}...</td>\n",
       "      <td>True</td>\n",
       "      <td>[Active Life, Arts &amp; Entertainment, Stadiums &amp;...</td>\n",
       "      <td>Phoenix</td>\n",
       "      <td>29</td>\n",
       "      <td>Turf Paradise Race Course</td>\n",
       "      <td>[]</td>\n",
       "      <td>-112.092329</td>\n",
       "      <td>AZ</td>\n",
       "      <td>4.0</td>\n",
       "      <td>33.638573</td>\n",
       "      <td>{'Take-out': False, 'Wi-Fi': 'free', 'Good For...</td>\n",
       "      <td>business</td>\n",
       "    </tr>\n",
       "    <tr>\n",
       "      <th>1</th>\n",
       "      <td>QbrM7wqtmoNncqjc6GtFaQ</td>\n",
       "      <td>18501 N 83rd Avenue\\nGlendale, AZ 85308</td>\n",
       "      <td>{}</td>\n",
       "      <td>True</td>\n",
       "      <td>[Tires, Automotive, Fashion, Shopping, Departm...</td>\n",
       "      <td>Glendale</td>\n",
       "      <td>3</td>\n",
       "      <td>Sam's Club Members Only</td>\n",
       "      <td>[]</td>\n",
       "      <td>-112.234755</td>\n",
       "      <td>AZ</td>\n",
       "      <td>3.5</td>\n",
       "      <td>33.648545</td>\n",
       "      <td>{'Parking': {'garage': False, 'street': False,...</td>\n",
       "      <td>business</td>\n",
       "    </tr>\n",
       "    <tr>\n",
       "      <th>2</th>\n",
       "      <td>7lbvsGKzhjuX3oJtaXJvOg</td>\n",
       "      <td>5000 S Arizona Mills Cir\\nSte 590\\nTempe, AZ 8...</td>\n",
       "      <td>{'Monday': {'close': '21:00', 'open': '10:00'}...</td>\n",
       "      <td>True</td>\n",
       "      <td>[Women's Clothing, Men's Clothing, Fashion, Sh...</td>\n",
       "      <td>Tempe</td>\n",
       "      <td>7</td>\n",
       "      <td>Forever 21</td>\n",
       "      <td>[]</td>\n",
       "      <td>-111.964485</td>\n",
       "      <td>AZ</td>\n",
       "      <td>3.5</td>\n",
       "      <td>33.383123</td>\n",
       "      <td>{'Parking': {'garage': False, 'street': False,...</td>\n",
       "      <td>business</td>\n",
       "    </tr>\n",
       "    <tr>\n",
       "      <th>3</th>\n",
       "      <td>gjxoKVsRJwEoa8zd9XxlAw</td>\n",
       "      <td>912 W Sycamore Pl\\nChandler, AZ 85225</td>\n",
       "      <td>{'Monday': {'close': '19:00', 'open': '06:00'}...</td>\n",
       "      <td>True</td>\n",
       "      <td>[Pet Services, Pet Boarding/Pet Sitting, Pets]</td>\n",
       "      <td>Chandler</td>\n",
       "      <td>4</td>\n",
       "      <td>Loving Hands Pet Care</td>\n",
       "      <td>[]</td>\n",
       "      <td>-111.857818</td>\n",
       "      <td>AZ</td>\n",
       "      <td>5.0</td>\n",
       "      <td>33.356472</td>\n",
       "      <td>{}</td>\n",
       "      <td>business</td>\n",
       "    </tr>\n",
       "    <tr>\n",
       "      <th>4</th>\n",
       "      <td>V28yjMqyZnbCtabroJN_aA</td>\n",
       "      <td>1745 W Glendale Ave\\nPhoenix, AZ 85021</td>\n",
       "      <td>{}</td>\n",
       "      <td>True</td>\n",
       "      <td>[Veterinarians, Pets]</td>\n",
       "      <td>Phoenix</td>\n",
       "      <td>3</td>\n",
       "      <td>Amec Mid-City Animal Hospital</td>\n",
       "      <td>[]</td>\n",
       "      <td>-112.097232</td>\n",
       "      <td>AZ</td>\n",
       "      <td>5.0</td>\n",
       "      <td>33.538493</td>\n",
       "      <td>{}</td>\n",
       "      <td>business</td>\n",
       "    </tr>\n",
       "  </tbody>\n",
       "</table>\n",
       "</div>"
      ],
      "text/plain": [
       "              business_id                                       full_address  \\\n",
       "0  O_X3PGhk3Y5JWVi866qlJg                  1501 W Bell Rd\\nPhoenix, AZ 85023   \n",
       "1  QbrM7wqtmoNncqjc6GtFaQ            18501 N 83rd Avenue\\nGlendale, AZ 85308   \n",
       "2  7lbvsGKzhjuX3oJtaXJvOg  5000 S Arizona Mills Cir\\nSte 590\\nTempe, AZ 8...   \n",
       "3  gjxoKVsRJwEoa8zd9XxlAw              912 W Sycamore Pl\\nChandler, AZ 85225   \n",
       "4  V28yjMqyZnbCtabroJN_aA             1745 W Glendale Ave\\nPhoenix, AZ 85021   \n",
       "\n",
       "                                               hours  open  \\\n",
       "0  {'Monday': {'close': '18:00', 'open': '11:00'}...  True   \n",
       "1                                                 {}  True   \n",
       "2  {'Monday': {'close': '21:00', 'open': '10:00'}...  True   \n",
       "3  {'Monday': {'close': '19:00', 'open': '06:00'}...  True   \n",
       "4                                                 {}  True   \n",
       "\n",
       "                                          categories      city  review_count  \\\n",
       "0  [Active Life, Arts & Entertainment, Stadiums &...   Phoenix            29   \n",
       "1  [Tires, Automotive, Fashion, Shopping, Departm...  Glendale             3   \n",
       "2  [Women's Clothing, Men's Clothing, Fashion, Sh...     Tempe             7   \n",
       "3     [Pet Services, Pet Boarding/Pet Sitting, Pets]  Chandler             4   \n",
       "4                              [Veterinarians, Pets]   Phoenix             3   \n",
       "\n",
       "                            name neighborhoods   longitude state  stars  \\\n",
       "0      Turf Paradise Race Course            [] -112.092329    AZ    4.0   \n",
       "1        Sam's Club Members Only            [] -112.234755    AZ    3.5   \n",
       "2                     Forever 21            [] -111.964485    AZ    3.5   \n",
       "3          Loving Hands Pet Care            [] -111.857818    AZ    5.0   \n",
       "4  Amec Mid-City Animal Hospital            [] -112.097232    AZ    5.0   \n",
       "\n",
       "    latitude                                         attributes      type  \n",
       "0  33.638573  {'Take-out': False, 'Wi-Fi': 'free', 'Good For...  business  \n",
       "1  33.648545  {'Parking': {'garage': False, 'street': False,...  business  \n",
       "2  33.383123  {'Parking': {'garage': False, 'street': False,...  business  \n",
       "3  33.356472                                                 {}  business  \n",
       "4  33.538493                                                 {}  business  "
      ]
     },
     "execution_count": 5,
     "metadata": {},
     "output_type": "execute_result"
    }
   ],
   "source": [
    "biz_df.head()"
   ]
  },
  {
   "cell_type": "code",
   "execution_count": 8,
   "metadata": {},
   "outputs": [],
   "source": [
    "js = []\n",
    "with open('data\\yelp_academic_dataset_review.json', encoding = 'utf-8') as f:\n",
    "  for i in range(10000):\n",
    "    js.append(json.loads(f.readline()))"
   ]
  },
  {
   "cell_type": "code",
   "execution_count": 10,
   "metadata": {},
   "outputs": [
    {
     "data": {
      "text/plain": [
       "(10000, 9)"
      ]
     },
     "execution_count": 10,
     "metadata": {},
     "output_type": "execute_result"
    }
   ],
   "source": [
    "review_df = pd.DataFrame(js)\n",
    "review_df.shape"
   ]
  },
  {
   "cell_type": "code",
   "execution_count": 11,
   "metadata": {},
   "outputs": [
    {
     "data": {
      "text/html": [
       "<div>\n",
       "<style scoped>\n",
       "    .dataframe tbody tr th:only-of-type {\n",
       "        vertical-align: middle;\n",
       "    }\n",
       "\n",
       "    .dataframe tbody tr th {\n",
       "        vertical-align: top;\n",
       "    }\n",
       "\n",
       "    .dataframe thead th {\n",
       "        text-align: right;\n",
       "    }\n",
       "</style>\n",
       "<table border=\"1\" class=\"dataframe\">\n",
       "  <thead>\n",
       "    <tr style=\"text-align: right;\">\n",
       "      <th></th>\n",
       "      <th>review_id</th>\n",
       "      <th>user_id</th>\n",
       "      <th>business_id</th>\n",
       "      <th>stars</th>\n",
       "      <th>useful</th>\n",
       "      <th>funny</th>\n",
       "      <th>cool</th>\n",
       "      <th>text</th>\n",
       "      <th>date</th>\n",
       "    </tr>\n",
       "  </thead>\n",
       "  <tbody>\n",
       "    <tr>\n",
       "      <th>0</th>\n",
       "      <td>KU_O5udG6zpxOg-VcAEodg</td>\n",
       "      <td>mh_-eMZ6K5RLWhZyISBhwA</td>\n",
       "      <td>XQfwVwDr-v0ZS3_CbbE5Xw</td>\n",
       "      <td>3.0</td>\n",
       "      <td>0</td>\n",
       "      <td>0</td>\n",
       "      <td>0</td>\n",
       "      <td>If you decide to eat here, just be aware it is...</td>\n",
       "      <td>2018-07-07 22:09:11</td>\n",
       "    </tr>\n",
       "    <tr>\n",
       "      <th>1</th>\n",
       "      <td>BiTunyQ73aT9WBnpR9DZGw</td>\n",
       "      <td>OyoGAe7OKpv6SyGZT5g77Q</td>\n",
       "      <td>7ATYjTIgM3jUlt4UM3IypQ</td>\n",
       "      <td>5.0</td>\n",
       "      <td>1</td>\n",
       "      <td>0</td>\n",
       "      <td>1</td>\n",
       "      <td>I've taken a lot of spin classes over the year...</td>\n",
       "      <td>2012-01-03 15:28:18</td>\n",
       "    </tr>\n",
       "    <tr>\n",
       "      <th>2</th>\n",
       "      <td>saUsX_uimxRlCVr67Z4Jig</td>\n",
       "      <td>8g_iMtfSiwikVnbP2etR0A</td>\n",
       "      <td>YjUWPpI6HXG530lwP-fb2A</td>\n",
       "      <td>3.0</td>\n",
       "      <td>0</td>\n",
       "      <td>0</td>\n",
       "      <td>0</td>\n",
       "      <td>Family diner. Had the buffet. Eclectic assortm...</td>\n",
       "      <td>2014-02-05 20:30:30</td>\n",
       "    </tr>\n",
       "    <tr>\n",
       "      <th>3</th>\n",
       "      <td>AqPFMleE6RsU23_auESxiA</td>\n",
       "      <td>_7bHUi9Uuf5__HHc_Q8guQ</td>\n",
       "      <td>kxX2SOes4o-D3ZQBkiMRfA</td>\n",
       "      <td>5.0</td>\n",
       "      <td>1</td>\n",
       "      <td>0</td>\n",
       "      <td>1</td>\n",
       "      <td>Wow!  Yummy, different,  delicious.   Our favo...</td>\n",
       "      <td>2015-01-04 00:01:03</td>\n",
       "    </tr>\n",
       "    <tr>\n",
       "      <th>4</th>\n",
       "      <td>Sx8TMOWLNuJBWer-0pcmoA</td>\n",
       "      <td>bcjbaE6dDog4jkNY91ncLQ</td>\n",
       "      <td>e4Vwtrqf-wpJfwesgvdgxQ</td>\n",
       "      <td>4.0</td>\n",
       "      <td>1</td>\n",
       "      <td>0</td>\n",
       "      <td>1</td>\n",
       "      <td>Cute interior and owner (?) gave us tour of up...</td>\n",
       "      <td>2017-01-14 20:54:15</td>\n",
       "    </tr>\n",
       "  </tbody>\n",
       "</table>\n",
       "</div>"
      ],
      "text/plain": [
       "                review_id                 user_id             business_id  \\\n",
       "0  KU_O5udG6zpxOg-VcAEodg  mh_-eMZ6K5RLWhZyISBhwA  XQfwVwDr-v0ZS3_CbbE5Xw   \n",
       "1  BiTunyQ73aT9WBnpR9DZGw  OyoGAe7OKpv6SyGZT5g77Q  7ATYjTIgM3jUlt4UM3IypQ   \n",
       "2  saUsX_uimxRlCVr67Z4Jig  8g_iMtfSiwikVnbP2etR0A  YjUWPpI6HXG530lwP-fb2A   \n",
       "3  AqPFMleE6RsU23_auESxiA  _7bHUi9Uuf5__HHc_Q8guQ  kxX2SOes4o-D3ZQBkiMRfA   \n",
       "4  Sx8TMOWLNuJBWer-0pcmoA  bcjbaE6dDog4jkNY91ncLQ  e4Vwtrqf-wpJfwesgvdgxQ   \n",
       "\n",
       "   stars  useful  funny  cool  \\\n",
       "0    3.0       0      0     0   \n",
       "1    5.0       1      0     1   \n",
       "2    3.0       0      0     0   \n",
       "3    5.0       1      0     1   \n",
       "4    4.0       1      0     1   \n",
       "\n",
       "                                                text                 date  \n",
       "0  If you decide to eat here, just be aware it is...  2018-07-07 22:09:11  \n",
       "1  I've taken a lot of spin classes over the year...  2012-01-03 15:28:18  \n",
       "2  Family diner. Had the buffet. Eclectic assortm...  2014-02-05 20:30:30  \n",
       "3  Wow!  Yummy, different,  delicious.   Our favo...  2015-01-04 00:01:03  \n",
       "4  Cute interior and owner (?) gave us tour of up...  2017-01-14 20:54:15  "
      ]
     },
     "execution_count": 11,
     "metadata": {},
     "output_type": "execute_result"
    }
   ],
   "source": [
    "review_df.head()"
   ]
  },
  {
   "cell_type": "code",
   "execution_count": 12,
   "metadata": {},
   "outputs": [
    {
     "data": {
      "text/plain": [
       "\"If you decide to eat here, just be aware it is going to take about 2 hours from beginning to end. We have tried it multiple times, because I want to like it! I have been to it's other locations in NJ and never had a bad experience. \\n\\nThe food is good, but it takes a very long time to come out. The waitstaff is very young, but usually pleasant. We have just had too many experiences where we spent way too long waiting. We usually opt for another diner or restaurant on the weekends, in order to be done quicker.\""
      ]
     },
     "execution_count": 12,
     "metadata": {},
     "output_type": "execute_result"
    }
   ],
   "source": [
    "review_df['text'][0]"
   ]
  },
  {
   "cell_type": "markdown",
   "metadata": {},
   "source": [
    "> unigrams, bigrams, trigrams에 대한 피쳐 변환기 생성.기본 옵션은 하나의 문자로 된 단어를 무시한다.\n",
    "<br/>실전에서는 의미없는 단어들을 제거하기 때문에 매우 유용하지만,\n",
    "<br/>이 예제에서는 설명을 위해 명시적으로 포함시킨다."
   ]
  },
  {
   "cell_type": "code",
   "execution_count": 18,
   "metadata": {},
   "outputs": [],
   "source": [
    "# bag of words"
   ]
  },
  {
   "cell_type": "code",
   "execution_count": 20,
   "metadata": {},
   "outputs": [
    {
     "data": {
      "text/plain": [
       "<10000x24570 sparse matrix of type '<class 'numpy.int64'>'\n",
       "\twith 694107 stored elements in Compressed Sparse Row format>"
      ]
     },
     "execution_count": 20,
     "metadata": {},
     "output_type": "execute_result"
    }
   ],
   "source": [
    "bow_converter = CountVectorizer(token_pattern='(?u)\\\\b\\\\w+\\\\b')\n",
    "x = bow_converter.fit_transform(review_df['text'])\n",
    "x"
   ]
  },
  {
   "cell_type": "code",
   "execution_count": 21,
   "metadata": {},
   "outputs": [
    {
     "name": "stderr",
     "output_type": "stream",
     "text": [
      "C:\\Users\\INP016\\anaconda3\\envs\\nlp_project\\lib\\site-packages\\sklearn\\utils\\deprecation.py:87: FutureWarning: Function get_feature_names is deprecated; get_feature_names is deprecated in 1.0 and will be removed in 1.2. Please use get_feature_names_out instead.\n",
      "  warnings.warn(msg, category=FutureWarning)\n"
     ]
    },
    {
     "data": {
      "text/plain": [
       "24570"
      ]
     },
     "execution_count": 21,
     "metadata": {},
     "output_type": "execute_result"
    }
   ],
   "source": [
    "words = bow_converter.get_feature_names()\n",
    "len(words)"
   ]
  },
  {
   "cell_type": "code",
   "execution_count": 22,
   "metadata": {},
   "outputs": [
    {
     "data": {
      "text/plain": [
       "['0', '00', '000', '00000', '007', '00am', '00pm', '01', '02', '02pm']"
      ]
     },
     "execution_count": 22,
     "metadata": {},
     "output_type": "execute_result"
    }
   ],
   "source": [
    "words[:10]"
   ]
  },
  {
   "cell_type": "code",
   "execution_count": 23,
   "metadata": {},
   "outputs": [],
   "source": [
    "# bigrams"
   ]
  },
  {
   "cell_type": "code",
   "execution_count": 26,
   "metadata": {},
   "outputs": [
    {
     "data": {
      "text/plain": [
       "<10000x293936 sparse matrix of type '<class 'numpy.int64'>'\n",
       "\twith 981534 stored elements in Compressed Sparse Row format>"
      ]
     },
     "execution_count": 26,
     "metadata": {},
     "output_type": "execute_result"
    }
   ],
   "source": [
    "bigram_converter = CountVectorizer(ngram_range=(2,2), token_pattern='(?u)\\\\b\\\\w+\\\\b')\n",
    "x2 = bigram_converter.fit_transform(review_df['text'])\n",
    "x2"
   ]
  },
  {
   "cell_type": "code",
   "execution_count": 27,
   "metadata": {},
   "outputs": [
    {
     "name": "stderr",
     "output_type": "stream",
     "text": [
      "C:\\Users\\INP016\\anaconda3\\envs\\nlp_project\\lib\\site-packages\\sklearn\\utils\\deprecation.py:87: FutureWarning: Function get_feature_names is deprecated; get_feature_names is deprecated in 1.0 and will be removed in 1.2. Please use get_feature_names_out instead.\n",
      "  warnings.warn(msg, category=FutureWarning)\n"
     ]
    },
    {
     "data": {
      "text/plain": [
       "293936"
      ]
     },
     "execution_count": 27,
     "metadata": {},
     "output_type": "execute_result"
    }
   ],
   "source": [
    "bigrams = bigram_converter.get_feature_names()\n",
    "len(bigrams)"
   ]
  },
  {
   "cell_type": "code",
   "execution_count": 30,
   "metadata": {},
   "outputs": [
    {
     "data": {
      "text/plain": [
       "['味の種類は半端なく多いです 50以上はあったはず',\n",
       " '夏のうだる暑さには 最高のチョイスだと思います',\n",
       " '安い トッピングをしても５ドル以上はいかないはず',\n",
       " '总的来说就是又油又咸 吃完了以后要不停喝水',\n",
       " '松鼠鱼中规中矩 但卖27块钱也不便宜',\n",
       " '毛血旺的大肠好油 酸豆角炒肉沫做的超级咸',\n",
       " '没一个好吃的 不适合中国人吃',\n",
       " '点了四个菜 没一个好吃的',\n",
       " '特に夏のニューオーリンズはジメジメして暑いから 公園に行った後にここでかき氷とか最高だと思う',\n",
       " '酸豆角炒肉沫做的超级咸 松鼠鱼中规中矩']"
      ]
     },
     "execution_count": 30,
     "metadata": {},
     "output_type": "execute_result"
    }
   ],
   "source": [
    "bigrams[-10:]"
   ]
  },
  {
   "cell_type": "code",
   "execution_count": 32,
   "metadata": {},
   "outputs": [],
   "source": [
    "#trigrams"
   ]
  },
  {
   "cell_type": "code",
   "execution_count": 34,
   "metadata": {},
   "outputs": [
    {
     "data": {
      "text/plain": [
       "<10000x689172 sparse matrix of type '<class 'numpy.int64'>'\n",
       "\twith 1007244 stored elements in Compressed Sparse Row format>"
      ]
     },
     "execution_count": 34,
     "metadata": {},
     "output_type": "execute_result"
    }
   ],
   "source": [
    "trigram_converter = CountVectorizer(ngram_range=(3,3), token_pattern='(?u)\\\\b\\\\w+\\\\b')\n",
    "x3 = trigram_converter.fit_transform(review_df['text'])\n",
    "x3"
   ]
  },
  {
   "cell_type": "code",
   "execution_count": 35,
   "metadata": {},
   "outputs": [
    {
     "name": "stderr",
     "output_type": "stream",
     "text": [
      "C:\\Users\\INP016\\anaconda3\\envs\\nlp_project\\lib\\site-packages\\sklearn\\utils\\deprecation.py:87: FutureWarning: Function get_feature_names is deprecated; get_feature_names is deprecated in 1.0 and will be removed in 1.2. Please use get_feature_names_out instead.\n",
      "  warnings.warn(msg, category=FutureWarning)\n"
     ]
    },
    {
     "data": {
      "text/plain": [
       "689172"
      ]
     },
     "execution_count": 35,
     "metadata": {},
     "output_type": "execute_result"
    }
   ],
   "source": [
    "trigrams = trigram_converter.get_feature_names()\n",
    "len(trigrams)"
   ]
  },
  {
   "cell_type": "code",
   "execution_count": 36,
   "metadata": {},
   "outputs": [
    {
     "data": {
      "text/plain": [
       "['0 0 for',\n",
       " '0 1 stars',\n",
       " '0 10 would',\n",
       " '0 23g of',\n",
       " '0 25 4',\n",
       " '0 25 7',\n",
       " '0 25 cent',\n",
       " '0 3 is',\n",
       " '0 3 miles',\n",
       " '0 35 charge']"
      ]
     },
     "execution_count": 36,
     "metadata": {},
     "output_type": "execute_result"
    }
   ],
   "source": [
    "trigrams[:10]"
   ]
  },
  {
   "cell_type": "code",
   "execution_count": 37,
   "metadata": {},
   "outputs": [
    {
     "name": "stdout",
     "output_type": "stream",
     "text": [
      "24570 293936 689172\n"
     ]
    }
   ],
   "source": [
    "print(len(words), len(bigrams), len(trigrams))"
   ]
  },
  {
   "cell_type": "code",
   "execution_count": 56,
   "metadata": {},
   "outputs": [
    {
     "data": {
      "image/png": "[encoded data removed]",
      "text/plain": [
       "<Figure size 432x288 with 1 Axes>"
      ]
     },
     "metadata": {},
     "output_type": "display_data"
    }
   ],
   "source": [
    "\n",
    "# 그림 3-6\n",
    "sns.set_style(\"darkgrid\")\n",
    "counts = [len(words), len(bigrams), len(trigrams)]\n",
    "plt.plot(counts, color='cornflowerblue')\n",
    "plt.plot(counts, 'bo')\n",
    "plt.margins(0.1)\n",
    "plt.xticks(range(3), ['unigram', 'bigram', 'trigram'])\n",
    "plt.tick_params(labelsize=14)\n",
    "plt.title('Number of ngrams in the first 10,000 reviews of the Yelp dataset', fontsize=14)\n",
    "\n",
    "plt.show()\n",
    "plt.close()"
   ]
  },
  {
   "cell_type": "markdown",
   "metadata": {},
   "source": [
    "Example 3-2. PoS tagging and chunking"
   ]
  },
  {
   "cell_type": "code",
   "execution_count": 59,
   "metadata": {},
   "outputs": [
    {
     "data": {
      "text/plain": [
       "(10, 9)"
      ]
     },
     "execution_count": 59,
     "metadata": {},
     "output_type": "execute_result"
    }
   ],
   "source": [
    "# 처음 10개의 리뷰 로드\n",
    "js = []\n",
    "with open('data\\yelp_academic_dataset_review.json', encoding = 'utf-8') as f:\n",
    "  for i in range(10):\n",
    "    js.append(json.loads(f.readline()))\n",
    "\n",
    "\n",
    "review_df = pd.DataFrame(js)\n",
    "review_df.shape"
   ]
  },
  {
   "cell_type": "markdown",
   "metadata": {},
   "source": [
    "### 1.spacy  사용"
   ]
  },
  {
   "cell_type": "code",
   "execution_count": 60,
   "metadata": {},
   "outputs": [],
   "source": [
    "import spacy"
   ]
  },
  {
   "cell_type": "code",
   "execution_count": 66,
   "metadata": {},
   "outputs": [
    {
     "name": "stdout",
     "output_type": "stream",
     "text": [
      "\u001b[1m\n",
      "=========================== Info about model 'en' ===========================\u001b[0m\n",
      "\n",
      "lang             en                            \n",
      "name             core_web_sm                   \n",
      "license          MIT                           \n",
      "author           Explosion                     \n",
      "url              https://explosion.ai          \n",
      "email            contact@explosion.ai          \n",
      "description      English multi-task CNN trained on OntoNotes. Assigns context-specific token vectors, POS tags, dependency parse and named entities.\n",
      "sources          [{'name': 'OntoNotes 5', 'url': 'https://catalog.ldc.upenn.edu/LDC2013T19', 'license': 'commercial (licensed by Explosion)'}]\n",
      "pipeline         ['tagger', 'parser', 'ner']   \n",
      "version          2.3.1                         \n",
      "spacy_version    >=2.3.0,<2.4.0                \n",
      "parent_package   spacy                         \n",
      "labels           {'tagger': ['$', \"''\", ',', '-LRB-', '-RRB-', '.', ':', 'ADD', 'AFX', 'CC', 'CD', 'DT', 'EX', 'FW', 'HYPH', 'IN', 'JJ', 'JJR', 'JJS', 'LS', 'MD', 'NFP', 'NN', 'NNP', 'NNPS', 'NNS', 'PDT', 'POS', 'PRP', 'PRP$', 'RB', 'RBR', 'RBS', 'RP', 'SYM', 'TO', 'UH', 'VB', 'VBD', 'VBG', 'VBN', 'VBP', 'VBZ', 'WDT', 'WP', 'WP$', 'WRB', 'XX', '_SP', '``'], 'parser': ['ROOT', 'acl', 'acomp', 'advcl', 'advmod', 'agent', 'amod', 'appos', 'attr', 'aux', 'auxpass', 'case', 'cc', 'ccomp', 'compound', 'conj', 'csubj', 'csubjpass', 'dative', 'dep', 'det', 'dobj', 'expl', 'intj', 'mark', 'meta', 'neg', 'nmod', 'npadvmod', 'nsubj', 'nsubjpass', 'nummod', 'oprd', 'parataxis', 'pcomp', 'pobj', 'poss', 'preconj', 'predet', 'prep', 'prt', 'punct', 'quantmod', 'relcl', 'xcomp'], 'ner': ['CARDINAL', 'DATE', 'EVENT', 'FAC', 'GPE', 'LANGUAGE', 'LAW', 'LOC', 'MONEY', 'NORP', 'ORDINAL', 'ORG', 'PERCENT', 'PERSON', 'PRODUCT', 'QUANTITY', 'TIME', 'WORK_OF_ART']}\n",
      "link             C:\\Users\\INP016\\anaconda3\\envs\\nlp_project\\lib\\site-packages\\spacy\\data\\en\n",
      "source           C:\\Users\\INP016\\anaconda3\\envs\\nlp_project\\Lib\\site-packages\\en_core_web_sm\n",
      "\n",
      "{'lang': 'en', 'name': 'core_web_sm', 'license': 'MIT', 'author': 'Explosion', 'url': 'https://explosion.ai', 'email': 'contact@explosion.ai', 'description': 'English multi-task CNN trained on OntoNotes. Assigns context-specific token vectors, POS tags, dependency parse and named entities.', 'sources': [{'name': 'OntoNotes 5', 'url': 'https://catalog.ldc.upenn.edu/LDC2013T19', 'license': 'commercial (licensed by Explosion)'}], 'pipeline': ['tagger', 'parser', 'ner'], 'version': '2.3.1', 'spacy_version': '>=2.3.0,<2.4.0', 'parent_package': 'spacy', 'accuracy': {'las': 89.7572754092, 'uas': 91.6570115569, 'token_acc': 99.756964111, 'las_per_type': {'advmod': {'p': 85.6065101297, 'r': 84.9512113055, 'f': 85.2776018577}, 'aux': {'p': 97.9464841319, 'r': 98.0772654442, 'f': 98.0118311613}, 'nsubj': {'p': 95.530627567, 'r': 94.7522887555, 'f': 95.1398662913}, 'root': {'p': 89.5162856958, 'r': 91.1692936754, 'f': 90.3352283866}, 'compound': {'p': 90.4871122761, 'r': 92.2811316552, 'f': 91.3753170839}, 'poss': {'p': 97.0346623923, 'r': 97.4838969404, 'f': 97.2587609198}, 'case': {'p': 97.927972373, 'r': 99.3493493493, 'f': 98.6335403727}, 'dobj': {'p': 92.4513496547, 'r': 93.8729981675, 'f': 93.1567503459}, 'prep': {'p': 85.6642170718, 'r': 86.2427438631, 'f': 85.9525069954}, 'pobj': {'p': 96.0694769711, 'r': 96.6428459243, 'f': 96.3553084873}, 'relcl': {'p': 76.5768958186, 'r': 78.3538796229, 'f': 77.4551971326}, 'det': {'p': 97.7105145232, 'r': 97.7901904024, 'f': 97.7503362269}, 'amod': {'p': 91.5748754262, 'r': 90.4891480402, 'f': 91.0287743996}, 'attr': {'p': 90.4294478528, 'r': 92.9772918419, 'f': 91.6856728177}, 'cc': {'p': 83.8244137102, 'r': 83.3532647692, 'f': 83.5881753313}, 'mark': {'p': 90.3421052632, 'r': 90.9644939057, 'f': 90.6522313177}, 'nmod': {'p': 76.3772954925, 'r': 55.7586837294, 'f': 64.4593166608}, 'conj': {'p': 76.8877867328, 'r': 78.0490874764, 'f': 77.4640849469}, 'advcl': {'p': 68.9203354298, 'r': 66.2301687232, 'f': 67.548478233}, 'pcomp': {'p': 85.2515506547, 'r': 86.6246498599, 'f': 85.9326154915}, 'nummod': {'p': 93.1951089846, 'r': 88.5353535354, 'f': 90.8054908055}, 'nsubjpass': {'p': 92.4265842349, 'r': 92.0, 'f': 92.2127987664}, 'quantmod': {'p': 85.3463587922, 'r': 78.0666125102, 'f': 81.5443360204}, 'auxpass': {'p': 94.7204968944, 'r': 97.2665148064, 'f': 95.9766239604}, 'ccomp': {'p': 79.9260844194, 'r': 83.6863543788, 'f': 81.7630086559}, 'npadvmod': {'p': 76.8636539204, 'r': 70.6927175844, 'f': 73.6491487787}, 'appos': {'p': 70.0960219479, 'r': 66.5075921909, 'f': 68.2546749777}, 'neg': {'p': 94.5082376435, 'r': 94.9824385349, 'f': 94.7447447447}, 'xcomp': {'p': 88.2854100106, 'r': 89.2677674085, 'f': 88.7738711405}, 'predet': {'p': 85.2459016393, 'r': 89.2703862661, 'f': 87.2117400419}, 'acomp': {'p': 90.3553299492, 'r': 88.717716357, 'f': 89.529035208}, 'acl': {'p': 75.6578947368, 'r': 69.012547736, 'f': 72.182596291}, 'oprd': {'p': 81.0810810811, 'r': 71.6417910448, 'f': 76.0697305864}, 'dative': {'p': 73.9659367397, 'r': 69.7247706422, 'f': 71.7827626919}, 'agent': {'p': 88.5328836425, 'r': 94.0860215054, 'f': 91.2250217202}, 'meta': {'p': 94.7368421053, 'r': 34.615384615400004, 'f': 50.7042253521}, 'dep': {'p': 40.329218107, 'r': 15.9090909091, 'f': 22.8172293364}, 'prt': {'p': 81.9166666667, 'r': 88.082437276, 'f': 84.8877374784}, 'expl': {'p': 98.3014861996, 'r': 99.1434689507, 'f': 98.7206823028}, 'parataxis': {'p': 63.9240506329, 'r': 43.8177874187, 'f': 51.9948519949}, 'intj': {'p': 69.387755102, 'r': 59.7802197802, 'f': 64.2266824085}, 'csubj': {'p': 70.5882352941, 'r': 71.0059171598, 'f': 70.796460177}, 'preconj': {'p': 57.4468085106, 'r': 62.7906976744, 'f': 60.0}, 'csubjpass': {'p': 44.4444444444, 'r': 66.6666666667, 'f': 53.3333333333}}, 'tags_acc': 97.056555292, 'ents_f': 85.4306864065, 'ents_p': 85.7239322492, 'ents_r': 85.1394400045, 'ents_per_type': {'ORG': {'p': 83.3194096352, 'r': 82.8808864266, 'f': 83.0995695042}, 'CARDINAL': {'p': 83.9554682384, 'r': 86.32996633, 'f': 85.1261620186}, 'DATE': {'p': 84.6522781775, 'r': 86.1275705821, 'f': 85.3835521769}, 'GPE': {'p': 92.5831202046, 'r': 90.2180685358, 'f': 91.3852950458}, 'PERSON': {'p': 88.0239520958, 'r': 92.0908379013, 'f': 90.0114810563}, 'MONEY': {'p': 92.9181929182, 'r': 91.4663461538, 'f': 92.1865536039}, 'PRODUCT': {'p': 52.1276595745, 'r': 24.1379310345, 'f': 32.9966329966}, 'TIME': {'p': 70.1886792453, 'r': 70.9923664122, 'f': 70.5882352941}, 'PERCENT': {'p': 91.8566775244, 'r': 88.125, 'f': 89.95215311}, 'WORK_OF_ART': {'p': 48.1481481481, 'r': 38.8059701493, 'f': 42.9752066116}, 'QUANTITY': {'p': 78.1954887218, 'r': 65.4088050314, 'f': 71.2328767123}, 'NORP': {'p': 88.682581786, 'r': 89.2348754448, 'f': 88.9578713969}, 'LOC': {'p': 70.8154506438, 'r': 66.0, 'f': 68.3229813665}, 'EVENT': {'p': 63.2911392405, 'r': 37.037037037, 'f': 46.7289719626}, 'ORDINAL': {'p': 80.0, 'r': 83.9694656489, 'f': 81.9366852886}, 'FAC': {'p': 34.8623853211, 'r': 46.9135802469, 'f': 40.0}, 'LAW': {'p': 62.962962963, 'r': 56.6666666667, 'f': 59.649122807}, 'LANGUAGE': {'p': 75.0, 'r': 65.2173913043, 'f': 69.7674418605}}}, 'speed': {'cpu': 6107.3535050376, 'gpu': None, 'nwords': 291315}, 'labels': {'tagger': ['$', \"''\", ',', '-LRB-', '-RRB-', '.', ':', 'ADD', 'AFX', 'CC', 'CD', 'DT', 'EX', 'FW', 'HYPH', 'IN', 'JJ', 'JJR', 'JJS', 'LS', 'MD', 'NFP', 'NN', 'NNP', 'NNPS', 'NNS', 'PDT', 'POS', 'PRP', 'PRP$', 'RB', 'RBR', 'RBS', 'RP', 'SYM', 'TO', 'UH', 'VB', 'VBD', 'VBG', 'VBN', 'VBP', 'VBZ', 'WDT', 'WP', 'WP$', 'WRB', 'XX', '_SP', '``'], 'parser': ['ROOT', 'acl', 'acomp', 'advcl', 'advmod', 'agent', 'amod', 'appos', 'attr', 'aux', 'auxpass', 'case', 'cc', 'ccomp', 'compound', 'conj', 'csubj', 'csubjpass', 'dative', 'dep', 'det', 'dobj', 'expl', 'intj', 'mark', 'meta', 'neg', 'nmod', 'npadvmod', 'nsubj', 'nsubjpass', 'nummod', 'oprd', 'parataxis', 'pcomp', 'pobj', 'poss', 'preconj', 'predet', 'prep', 'prt', 'punct', 'quantmod', 'relcl', 'xcomp'], 'ner': ['CARDINAL', 'DATE', 'EVENT', 'FAC', 'GPE', 'LANGUAGE', 'LAW', 'LOC', 'MONEY', 'NORP', 'ORDINAL', 'ORG', 'PERCENT', 'PERSON', 'PRODUCT', 'QUANTITY', 'TIME', 'WORK_OF_ART']}, 'link': 'C:\\\\Users\\\\INP016\\\\anaconda3\\\\envs\\\\nlp_project\\\\lib\\\\site-packages\\\\spacy\\\\data\\\\en', 'source': 'C:\\\\Users\\\\INP016\\\\anaconda3\\\\envs\\\\nlp_project\\\\Lib\\\\site-packages\\\\en_core_web_sm'}\n"
     ]
    }
   ],
   "source": [
    "# model meta data\n",
    "print(spacy.info('en'))"
   ]
  },
  {
   "cell_type": "code",
   "execution_count": 67,
   "metadata": {},
   "outputs": [],
   "source": [
    "# 언어 모델 로드\n",
    "nlp = spacy.load('en')"
   ]
  },
  {
   "cell_type": "code",
   "execution_count": 68,
   "metadata": {},
   "outputs": [
    {
     "data": {
      "text/plain": [
       "pandas.core.series.Series"
      ]
     },
     "execution_count": 68,
     "metadata": {},
     "output_type": "execute_result"
    }
   ],
   "source": [
    "# 데이터 프레임에 적용\n",
    "doc_df = review_df['text'].apply(nlp)\n",
    "type(doc_df)"
   ]
  },
  {
   "cell_type": "code",
   "execution_count": 69,
   "metadata": {},
   "outputs": [
    {
     "data": {
      "text/plain": [
       "spacy.tokens.doc.Doc"
      ]
     },
     "execution_count": 69,
     "metadata": {},
     "output_type": "execute_result"
    }
   ],
   "source": [
    "type(doc_df[0])"
   ]
  },
  {
   "cell_type": "code",
   "execution_count": 70,
   "metadata": {},
   "outputs": [
    {
     "name": "stdout",
     "output_type": "stream",
     "text": [
      "Cute ADJ JJ\n",
      "interior NOUN NN\n",
      "and CCONJ CC\n",
      "owner NOUN NN\n",
      "( PUNCT -LRB-\n",
      "? PUNCT .\n",
      ") PUNCT -RRB-\n",
      "gave VERB VBD\n",
      "us PRON PRP\n",
      "tour NOUN NN\n",
      "of ADP IN\n",
      "upcoming ADJ JJ\n",
      "patio NOUN NN\n",
      "/ SYM SYM\n",
      "rooftop NOUN NN\n",
      "area NOUN NN\n",
      "which DET WDT\n",
      "will VERB MD\n",
      "be AUX VB\n",
      "great ADJ JJ\n",
      "on ADP IN\n",
      "beautiful ADJ JJ\n",
      "days NOUN NNS\n",
      "like SCONJ IN\n",
      "today NOUN NN\n",
      ". PUNCT .\n",
      "Cheese ADJ JJ\n",
      "curds NOUN NNS\n",
      "were AUX VBD\n",
      "very ADV RB\n",
      "good ADJ JJ\n",
      "and CCONJ CC\n",
      "very ADV RB\n",
      "filling ADJ JJ\n",
      ". PUNCT .\n",
      "Really ADV RB\n",
      "like VERB VB\n",
      "that DET DT\n",
      "sandwiches NOUN NNS\n",
      "come VERB VBP\n",
      "w ADV RB\n",
      "salad NOUN NN\n",
      ", PUNCT ,\n",
      "esp ADV RB\n",
      "after ADP IN\n",
      "eating VERB VBG\n",
      "too ADV RB\n",
      "many ADJ JJ\n",
      "curds NOUN NNS\n",
      "! PUNCT .\n",
      "Had AUX VBD\n",
      "the DET DT\n",
      "onion NOUN NN\n",
      ", PUNCT ,\n",
      "gruyere PROPN NNP\n",
      ", PUNCT ,\n",
      "tomato PROPN NNP\n",
      "sandwich NOUN NN\n",
      ". PUNCT .\n",
      "Was AUX VBD\n",
      "n't PART RB\n",
      "too ADV RB\n",
      "much ADJ JJ\n",
      "cheese NOUN NN\n",
      "which DET WDT\n",
      "I PRON PRP\n",
      "liked VERB VBD\n",
      ". PUNCT .\n",
      "Needed VERB VBN\n",
      "something PRON NN\n",
      "else ADV RB\n",
      "... PUNCT :\n",
      "pepper NOUN NN\n",
      "jelly ADV RB\n",
      "maybe ADV RB\n",
      ". PUNCT .\n",
      "Would VERB MD\n",
      "like VERB VB\n",
      "to PART TO\n",
      "see VERB VB\n",
      "more ADJ JJR\n",
      "menu NOUN NN\n",
      "options NOUN NNS\n",
      "added VERB VBN\n",
      "such ADJ JJ\n",
      "as SCONJ IN\n",
      "salads NOUN NNS\n",
      "w PROPN NNP\n",
      "fun NOUN NN\n",
      "cheeses NOUN NNS\n",
      ". PUNCT .\n",
      "Lots NOUN NNS\n",
      "of ADP IN\n",
      "beer NOUN NN\n",
      "and CCONJ CC\n",
      "wine NOUN NN\n",
      "as ADV RB\n",
      "well ADV RB\n",
      "as SCONJ IN\n",
      "limited VERB VBN\n",
      "cocktails NOUN NNS\n",
      ". PUNCT .\n",
      "Next ADJ JJ\n",
      "time NOUN NN\n",
      "I PRON PRP\n",
      "will VERB MD\n",
      "try VERB VB\n",
      "one NUM CD\n",
      "of ADP IN\n",
      "the DET DT\n",
      "draft NOUN NN\n",
      "wines NOUN NNS\n",
      ". PUNCT .\n"
     ]
    }
   ],
   "source": [
    "# spacy는 품사(.pos_)와 태그(.tag_)를 모두 제공\n",
    "for doc in doc_df[4]:\n",
    "  print(doc.text, doc.pos_, doc.tag_)"
   ]
  },
  {
   "cell_type": "code",
   "execution_count": 71,
   "metadata": {},
   "outputs": [
    {
     "name": "stdout",
     "output_type": "stream",
     "text": [
      "[Cute interior, owner, us, tour, upcoming patio/rooftop area, beautiful days, today, Cheese curds, that sandwiches, w salad, too many curds, the onion, , tomato sandwich, too much cheese, I, something, more menu options, salads w fun cheeses, Lots, beer, wine, limited cocktails, I, the draft wines]\n"
     ]
    }
   ],
   "source": [
    "# spacy는 명사구 추출 기능도 제공한다.\n",
    "print([chunk for chunk in doc_df[4].noun_chunks])"
   ]
  },
  {
   "cell_type": "markdown",
   "metadata": {},
   "source": [
    "2.Textblob사용"
   ]
  },
  {
   "cell_type": "code",
   "execution_count": 73,
   "metadata": {},
   "outputs": [],
   "source": [
    "from textblob import TextBlob"
   ]
  },
  {
   "cell_type": "code",
   "execution_count": 74,
   "metadata": {},
   "outputs": [],
   "source": [
    "# Textblob 에서는 기본값으로 PatterTagger를 사용하며, 이 예제에서는 이걸로 충분하다.\n",
    "# NLTK tagger를 사용할 수도 있지만 이것은 불완전한 문장에 대해 더 잘 동작한다."
   ]
  },
  {
   "cell_type": "code",
   "execution_count": 75,
   "metadata": {},
   "outputs": [
    {
     "data": {
      "text/plain": [
       "pandas.core.series.Series"
      ]
     },
     "execution_count": 75,
     "metadata": {},
     "output_type": "execute_result"
    }
   ],
   "source": [
    "blob_df = review_df['text'].apply(TextBlob)\n",
    "type(blob_df)"
   ]
  },
  {
   "cell_type": "code",
   "execution_count": 76,
   "metadata": {},
   "outputs": [
    {
     "data": {
      "text/plain": [
       "textblob.blob.TextBlob"
      ]
     },
     "execution_count": 76,
     "metadata": {},
     "output_type": "execute_result"
    }
   ],
   "source": [
    "type(blob_df[4])"
   ]
  },
  {
   "cell_type": "code",
   "execution_count": 79,
   "metadata": {},
   "outputs": [
    {
     "name": "stderr",
     "output_type": "stream",
     "text": [
      "[nltk_data] Downloading package averaged_perceptron_tagger to\n",
      "[nltk_data]     C:\\Users\\INP016\\AppData\\Roaming\\nltk_data...\n",
      "[nltk_data]   Unzipping taggers\\averaged_perceptron_tagger.zip.\n"
     ]
    },
    {
     "data": {
      "text/plain": [
       "[('Cute', 'NNP'),\n",
       " ('interior', 'NN'),\n",
       " ('and', 'CC'),\n",
       " ('owner', 'NN'),\n",
       " ('gave', 'VBD'),\n",
       " ('us', 'PRP'),\n",
       " ('tour', 'NN'),\n",
       " ('of', 'IN'),\n",
       " ('upcoming', 'VBG'),\n",
       " ('patio/rooftop', 'JJ'),\n",
       " ('area', 'NN'),\n",
       " ('which', 'WDT'),\n",
       " ('will', 'MD'),\n",
       " ('be', 'VB'),\n",
       " ('great', 'JJ'),\n",
       " ('on', 'IN'),\n",
       " ('beautiful', 'JJ'),\n",
       " ('days', 'NNS'),\n",
       " ('like', 'IN'),\n",
       " ('today', 'NN'),\n",
       " ('Cheese', 'JJ'),\n",
       " ('curds', 'NNS'),\n",
       " ('were', 'VBD'),\n",
       " ('very', 'RB'),\n",
       " ('good', 'JJ'),\n",
       " ('and', 'CC'),\n",
       " ('very', 'RB'),\n",
       " ('filling', 'JJ'),\n",
       " ('Really', 'RB'),\n",
       " ('like', 'IN'),\n",
       " ('that', 'DT'),\n",
       " ('sandwiches', 'VBZ'),\n",
       " ('come', 'VBP'),\n",
       " ('w', 'NN'),\n",
       " ('salad', 'NN'),\n",
       " ('esp', 'RB'),\n",
       " ('after', 'IN'),\n",
       " ('eating', 'VBG'),\n",
       " ('too', 'RB'),\n",
       " ('many', 'JJ'),\n",
       " ('curds', 'NNS'),\n",
       " ('Had', 'VBD'),\n",
       " ('the', 'DT'),\n",
       " ('onion', 'NN'),\n",
       " ('gruyere', 'RB'),\n",
       " ('tomato', 'NN'),\n",
       " ('sandwich', 'NN'),\n",
       " ('Was', 'JJ'),\n",
       " (\"n't\", 'RB'),\n",
       " ('too', 'RB'),\n",
       " ('much', 'JJ'),\n",
       " ('cheese', 'NN'),\n",
       " ('which', 'WDT'),\n",
       " ('I', 'PRP'),\n",
       " ('liked', 'VBD'),\n",
       " ('Needed', 'VBN'),\n",
       " ('something', 'NN'),\n",
       " ('else', 'RB'),\n",
       " ('pepper', 'NN'),\n",
       " ('jelly', 'RB'),\n",
       " ('maybe', 'RB'),\n",
       " ('Would', 'MD'),\n",
       " ('like', 'VB'),\n",
       " ('to', 'TO'),\n",
       " ('see', 'VB'),\n",
       " ('more', 'JJR'),\n",
       " ('menu', 'NN'),\n",
       " ('options', 'NNS'),\n",
       " ('added', 'VBD'),\n",
       " ('such', 'JJ'),\n",
       " ('as', 'IN'),\n",
       " ('salads', 'NNS'),\n",
       " ('w', 'VBP'),\n",
       " ('fun', 'NN'),\n",
       " ('cheeses', 'NNS'),\n",
       " ('Lots', 'NNS'),\n",
       " ('of', 'IN'),\n",
       " ('beer', 'NN'),\n",
       " ('and', 'CC'),\n",
       " ('wine', 'NN'),\n",
       " ('as', 'RB'),\n",
       " ('well', 'RB'),\n",
       " ('as', 'IN'),\n",
       " ('limited', 'JJ'),\n",
       " ('cocktails', 'NNS'),\n",
       " ('Next', 'JJ'),\n",
       " ('time', 'NN'),\n",
       " ('I', 'PRP'),\n",
       " ('will', 'MD'),\n",
       " ('try', 'VB'),\n",
       " ('one', 'CD'),\n",
       " ('of', 'IN'),\n",
       " ('the', 'DT'),\n",
       " ('draft', 'NN'),\n",
       " ('wines', 'NNS')]"
      ]
     },
     "execution_count": 79,
     "metadata": {},
     "output_type": "execute_result"
    }
   ],
   "source": [
    "import nltk\n",
    "nltk.download('averaged_perceptron_tagger')\n",
    "blob_df[4].tags"
   ]
  },
  {
   "cell_type": "code",
   "execution_count": 82,
   "metadata": {},
   "outputs": [
    {
     "name": "stderr",
     "output_type": "stream",
     "text": [
      "[nltk_data] Downloading package brown to\n",
      "[nltk_data]     C:\\Users\\INP016\\AppData\\Roaming\\nltk_data...\n",
      "[nltk_data]   Unzipping corpora\\brown.zip.\n"
     ]
    },
    {
     "name": "stdout",
     "output_type": "stream",
     "text": [
      "['cute', 'patio/rooftop area', 'beautiful days', 'cheese', 'really', 'w salad', 'tomato sandwich', 'was', 'needed', '... pepper', 'menu options', 'salads w fun cheeses', 'lots', 'draft wines']\n"
     ]
    }
   ],
   "source": [
    "# Textblob도 명사구 추출 가능\n",
    "nltk.download('brown')\n",
    "print([np for np in blob_df[4].noun_phrases])"
   ]
  },
  {
   "cell_type": "code",
   "execution_count": null,
   "metadata": {},
   "outputs": [],
   "source": []
  }
 ],
 "metadata": {
  "interpreter": {
   "hash": "5c45f8b580dd62c4645c598d902dc685956ec16af79ce6e7dfd56b063e9f4cf2"
  },
  "kernelspec": {
   "display_name": "npl_project",
   "language": "python",
   "name": "nlp_project"
  },
  "language_info": {
   "codemirror_mode": {
    "name": "ipython",
    "version": 3
   },
   "file_extension": ".py",
   "mimetype": "text/x-python",
   "name": "python",
   "nbconvert_exporter": "python",
   "pygments_lexer": "ipython3",
   "version": "3.7.13"
  },
  "orig_nbformat": 4
 },
 "nbformat": 4,
 "nbformat_minor": 2
}
