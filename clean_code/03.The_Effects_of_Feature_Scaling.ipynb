{
 "cells": [
  {
   "cell_type": "code",
   "execution_count": 1,
   "id": "f0c7346e-bd6c-4710-a493-fa7a4248cd1c",
   "metadata": {},
   "outputs": [],
   "source": [
    "import os\n",
    "os.getenv(\"DBHOST\")"
   ]
  },
  {
   "cell_type": "code",
   "execution_count": 2,
   "id": "f5f6f2a4-60e5-4517-adf8-07d1489d8e14",
   "metadata": {},
   "outputs": [
    {
     "data": {
      "text/plain": [
       "5432"
      ]
     },
     "execution_count": 2,
     "metadata": {},
     "output_type": "execute_result"
    }
   ],
   "source": [
    "os.getenv(\"DPORT\", 5432)"
   ]
  },
  {
   "cell_type": "code",
   "execution_count": 4,
   "id": "10f82413-3a51-4719-b14e-d327b01ce6d5",
   "metadata": {},
   "outputs": [],
   "source": [
    "def connect_database(host=\"localhost\", port=5432):\n",
    "    "
   ]
  },
  {
   "cell_type": "code",
   "execution_count": null,
   "id": "4a65e852-56f7-4931-9139-c419f82bc7bb",
   "metadata": {},
   "outputs": [],
   "source": []
  }
 ],
 "metadata": {
  "kernelspec": {
   "display_name": "Python [conda env:dtx_project]",
   "language": "python",
   "name": "conda-env-dtx_project-py"
  },
  "language_info": {
   "codemirror_mode": {
    "name": "ipython",
    "version": 3
   },
   "file_extension": ".py",
   "mimetype": "text/x-python",
   "name": "python",
   "nbconvert_exporter": "python",
   "pygments_lexer": "ipython3",
   "version": "3.10.4"
  }
 },
 "nbformat": 4,
 "nbformat_minor": 5
}
