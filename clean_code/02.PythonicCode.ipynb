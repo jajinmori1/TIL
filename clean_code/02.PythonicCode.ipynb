{
 "cells": [
  {
   "cell_type": "markdown",
   "id": "971bedc5-b281-4ef5-9072-dd17efb103f1",
   "metadata": {},
   "source": [
    "## Chapter 2. 파이썬스러운(pythonic) 코드"
   ]
  },
  {
   "cell_type": "code",
   "execution_count": 2,
   "id": "2babac2a-3e0d-4441-a930-d203ba40045c",
   "metadata": {},
   "outputs": [
    {
     "name": "stdout",
     "output_type": "stream",
     "text": [
      "음수 인덱스: 9 5\n",
      "slice 1: (3, 9)\n",
      "slice 2: (4, 5, 3)\n",
      "slice 3: (9,)\n",
      "slice 4: (9, 3, 5, 4)\n",
      "\n",
      "\n",
      "slice index: (5, 9)\n",
      "slice object: (5, 9)\n",
      "\n",
      "\n",
      "slice object vs index: True\n"
     ]
    }
   ],
   "source": [
    "my_numbers = (4, 5, 3, 9)\n",
    "\n",
    "print(\"음수 인덱스:\", my_numbers[-1], my_numbers[-3])\n",
    "print(\"slice 1:\", my_numbers[2:5])\n",
    "print(\"slice 2:\", my_numbers[:3])\n",
    "print(\"slice 3:\", my_numbers[3:])\n",
    "print(\"slice 4:\", my_numbers[::-1])\n",
    "\n",
    "print(\"\\n\")\n",
    "print(\"slice index:\", my_numbers[1:7:2])\n",
    "print(\"slice object:\", my_numbers[slice(1, 7, 2)])\n",
    "\n",
    "print(\"\\n\")\n",
    "interval = slice(None, 3)\n",
    "print(\"slice object vs index:\", my_numbers[interval] == my_numbers[:3])"
   ]
  },
  {
   "cell_type": "code",
   "execution_count": 1,
   "id": "a0636889-6ea6-4a2d-8bac-df05d45966e3",
   "metadata": {},
   "outputs": [],
   "source": [
    "\"\"\" list wrapping 사례 \"\"\"\n",
    "\n",
    "class Item:\n",
    "    def __init__(self, *values):\n",
    "        self._value = list(values)\n",
    "    \n",
    "    def __len__(self):\n",
    "        return len(self._value)\n",
    "\n",
    "    def __getitem__(self, index):\n",
    "        return self._value.__getitem__(index)"
   ]
  },
  {
   "cell_type": "code",
   "execution_count": 2,
   "id": "bc2188c6-83f4-4f1e-9179-6d7055adf075",
   "metadata": {},
   "outputs": [
    {
     "name": "stdout",
     "output_type": "stream",
     "text": [
      "3\n",
      "[4, 5]\n",
      "<class 'list'>\n"
     ]
    }
   ],
   "source": [
    "item = Item(3, 4, 5)\n",
    "print(len(item))\n",
    "print(item[1:])\n",
    "print(type(item[1:]))"
   ]
  },
  {
   "cell_type": "code",
   "execution_count": 7,
   "id": "05b0e8db-24bd-44d9-9001-83a56ce4f416",
   "metadata": {},
   "outputs": [
    {
     "data": {
      "text/plain": [
       "<__main__.Item at 0x211d4835040>"
      ]
     },
     "execution_count": 7,
     "metadata": {},
     "output_type": "execute_result"
    }
   ],
   "source": [
    "Item(3,4,5)"
   ]
  },
  {
   "cell_type": "code",
   "execution_count": 70,
   "id": "fef1fc32-f024-46a8-aaae-0b7643fb69ee",
   "metadata": {},
   "outputs": [
    {
     "name": "stdout",
     "output_type": "stream",
     "text": [
      "systemctl stop postgresql.service\n",
      "pg_dump database\n",
      "systemctl start postgresql.service\n"
     ]
    }
   ],
   "source": [
    "\"\"\" 컨텍스트 관리자를 활용한 DB Dump 사례 \"\"\"\n",
    "\n",
    "def stop_database():\n",
    "    print(\"systemctl stop postgresql.service\")\n",
    "\n",
    "def start_database():\n",
    "    print(\"systemctl start postgresql.service\")\n",
    "\n",
    "\n",
    "class DBHandler:\n",
    "    def __enter__(self):\n",
    "        stop_database()\n",
    "        return self\n",
    "\n",
    "    def __exit__(self, exc_type, ex_value, ex_traceback):\n",
    "        start_database()\n",
    "\n",
    "\n",
    "def db_backup():\n",
    "    print(\"pg_dump database\")\n",
    "\n",
    "def main():\n",
    "    with DBHandler():\n",
    "        db_backup()\n",
    "\n",
    "main()"
   ]
  },
  {
   "cell_type": "code",
   "execution_count": 71,
   "id": "aa882a5d",
   "metadata": {},
   "outputs": [
    {
     "name": "stdout",
     "output_type": "stream",
     "text": [
      "systemctl stop postgresql.service\n",
      "pg_dump database\n",
      "systemctl start postgresql.service\n"
     ]
    }
   ],
   "source": [
    "import contextlib\n",
    "\n",
    "@contextlib.contextmanager\n",
    "def db_handler():\n",
    "    stop_database()\n",
    "    yield\n",
    "    start_database()\n",
    "\n",
    "def main():\n",
    "    with db_handler():\n",
    "        db_backup()\n",
    "\n",
    "main()"
   ]
  },
  {
   "cell_type": "code",
   "execution_count": 72,
   "id": "3be549a9",
   "metadata": {},
   "outputs": [],
   "source": [
    "import contextlib\n",
    "\n",
    "class dbhandler_decorator(contextlib.ContextDecorator):\n",
    "    def __enter__(self):\n",
    "        stop_database()\n",
    "\n",
    "    def __exit__(self, ext_type, ex_value, ex_traceback):\n",
    "        start_database()\n",
    "\n",
    "@dbhandler_decorator()\n",
    "def offline_backup():\n",
    "    print(\"pg_dump database\")"
   ]
  },
  {
   "cell_type": "code",
   "execution_count": 73,
   "id": "38326821",
   "metadata": {},
   "outputs": [
    {
     "name": "stdout",
     "output_type": "stream",
     "text": [
      "{'source': 'postgresql://localhost', '_timeout': 70}\n"
     ]
    }
   ],
   "source": [
    "class Connector:\n",
    "    def __init__(self, source):\n",
    "        self.source = source\n",
    "        self._timeout = 60 # 하나의 밑줄\n",
    "\n",
    "conn = Connector(\"postgresql://localhost\")\n",
    "\n",
    "conn._timeout = 70\n",
    "print(conn.__dict__)"
   ]
  },
  {
   "cell_type": "code",
   "execution_count": 74,
   "id": "931c4e8d",
   "metadata": {},
   "outputs": [
    {
     "ename": "AttributeError",
     "evalue": "'Connector' object has no attribute '__timeout'",
     "output_type": "error",
     "traceback": [
      "\u001b[1;31m---------------------------------------------------------------------------\u001b[0m",
      "\u001b[1;31mAttributeError\u001b[0m                            Traceback (most recent call last)",
      "\u001b[1;32mc:\\Users\\INP016\\Desktop\\개인workspace\\TIL\\clean_code\\02.PythonicCode.ipynb Cell 10'\u001b[0m in \u001b[0;36m<cell line: 8>\u001b[1;34m()\u001b[0m\n\u001b[0;32m      <a href='vscode-notebook-cell:/c%3A/Users/INP016/Desktop/%EA%B0%9C%EC%9D%B8workspace/TIL/clean_code/02.PythonicCode.ipynb#ch0000009?line=3'>4</a>\u001b[0m         \u001b[39mself\u001b[39m\u001b[39m.\u001b[39m__timeout \u001b[39m=\u001b[39m \u001b[39m60\u001b[39m \u001b[39m# 두 개의 밑줄\u001b[39;00m\n\u001b[0;32m      <a href='vscode-notebook-cell:/c%3A/Users/INP016/Desktop/%EA%B0%9C%EC%9D%B8workspace/TIL/clean_code/02.PythonicCode.ipynb#ch0000009?line=5'>6</a>\u001b[0m conn \u001b[39m=\u001b[39m Connector(\u001b[39m\"\u001b[39m\u001b[39mpostgresql://localhost\u001b[39m\u001b[39m\"\u001b[39m)\n\u001b[1;32m----> <a href='vscode-notebook-cell:/c%3A/Users/INP016/Desktop/%EA%B0%9C%EC%9D%B8workspace/TIL/clean_code/02.PythonicCode.ipynb#ch0000009?line=7'>8</a>\u001b[0m conn\u001b[39m.\u001b[39;49m__timeout\n",
      "\u001b[1;31mAttributeError\u001b[0m: 'Connector' object has no attribute '__timeout'"
     ]
    }
   ],
   "source": [
    "class Connector:\n",
    "    def __init__(self, source):\n",
    "        self.source = source\n",
    "        self.__timeout = 60 # 두 개의 밑줄\n",
    "\n",
    "conn = Connector(\"postgresql://localhost\")\n",
    "\n",
    "conn.__timeout # \"접근할 수 없다\"가 아닌 \"존재하지 않는다\"는 오류 발생"
   ]
  },
  {
   "cell_type": "code",
   "execution_count": 75,
   "id": "711be66a",
   "metadata": {},
   "outputs": [
    {
     "name": "stdout",
     "output_type": "stream",
     "text": [
      "{'source': 'postgresql://localhost', '_Connector__timeout': 80}\n"
     ]
    }
   ],
   "source": [
    "conn._Connector__timeout = 80 # 이름이 바뀌어 있음\n",
    "print(conn.__dict__)"
   ]
  },
  {
   "cell_type": "code",
   "execution_count": 88,
   "id": "4c2cd56f",
   "metadata": {},
   "outputs": [
    {
     "ename": "ValueError",
     "evalue": "유효한 이메일이 아니므로 hhh.aaa@ 값을 사용할 수 없음",
     "output_type": "error",
     "traceback": [
      "\u001b[1;31m---------------------------------------------------------------------------\u001b[0m",
      "\u001b[1;31mValueError\u001b[0m                                Traceback (most recent call last)",
      "\u001b[1;32mc:\\Users\\INP016\\Desktop\\개인workspace\\TIL\\clean_code\\02.PythonicCode.ipynb Cell 12'\u001b[0m in \u001b[0;36m<cell line: 24>\u001b[1;34m()\u001b[0m\n\u001b[0;32m     <a href='vscode-notebook-cell:/c%3A/Users/INP016/Desktop/%EA%B0%9C%EC%9D%B8workspace/TIL/clean_code/02.PythonicCode.ipynb#ch0000011?line=20'>21</a>\u001b[0m         \u001b[39mself\u001b[39m\u001b[39m.\u001b[39m_email \u001b[39m=\u001b[39m new_email\n\u001b[0;32m     <a href='vscode-notebook-cell:/c%3A/Users/INP016/Desktop/%EA%B0%9C%EC%9D%B8workspace/TIL/clean_code/02.PythonicCode.ipynb#ch0000011?line=22'>23</a>\u001b[0m user \u001b[39m=\u001b[39m User(\u001b[39m\"\u001b[39m\u001b[39mhhh.aaa\u001b[39m\u001b[39m\"\u001b[39m)\n\u001b[1;32m---> <a href='vscode-notebook-cell:/c%3A/Users/INP016/Desktop/%EA%B0%9C%EC%9D%B8workspace/TIL/clean_code/02.PythonicCode.ipynb#ch0000011?line=23'>24</a>\u001b[0m user\u001b[39m.\u001b[39memail \u001b[39m=\u001b[39m \u001b[39m\"\u001b[39m\u001b[39mhhh.aaa@\u001b[39m\u001b[39m\"\u001b[39m\n",
      "\u001b[1;32mc:\\Users\\INP016\\Desktop\\개인workspace\\TIL\\clean_code\\02.PythonicCode.ipynb Cell 12'\u001b[0m in \u001b[0;36mUser.email\u001b[1;34m(self, new_email)\u001b[0m\n\u001b[0;32m     <a href='vscode-notebook-cell:/c%3A/Users/INP016/Desktop/%EA%B0%9C%EC%9D%B8workspace/TIL/clean_code/02.PythonicCode.ipynb#ch0000011?line=16'>17</a>\u001b[0m \u001b[39m@email\u001b[39m\u001b[39m.\u001b[39msetter\n\u001b[0;32m     <a href='vscode-notebook-cell:/c%3A/Users/INP016/Desktop/%EA%B0%9C%EC%9D%B8workspace/TIL/clean_code/02.PythonicCode.ipynb#ch0000011?line=17'>18</a>\u001b[0m \u001b[39mdef\u001b[39;00m \u001b[39memail\u001b[39m(\u001b[39mself\u001b[39m, new_email):\n\u001b[0;32m     <a href='vscode-notebook-cell:/c%3A/Users/INP016/Desktop/%EA%B0%9C%EC%9D%B8workspace/TIL/clean_code/02.PythonicCode.ipynb#ch0000011?line=18'>19</a>\u001b[0m     \u001b[39mif\u001b[39;00m \u001b[39mnot\u001b[39;00m is_valid_email(new_email):\n\u001b[1;32m---> <a href='vscode-notebook-cell:/c%3A/Users/INP016/Desktop/%EA%B0%9C%EC%9D%B8workspace/TIL/clean_code/02.PythonicCode.ipynb#ch0000011?line=19'>20</a>\u001b[0m         \u001b[39mraise\u001b[39;00m \u001b[39mValueError\u001b[39;00m(\u001b[39mf\u001b[39m\u001b[39m\"\u001b[39m\u001b[39m유효한 이메일이 아니므로 \u001b[39m\u001b[39m{\u001b[39;00mnew_email\u001b[39m}\u001b[39;00m\u001b[39m 값을 사용할 수 없음\u001b[39m\u001b[39m\"\u001b[39m)\n\u001b[0;32m     <a href='vscode-notebook-cell:/c%3A/Users/INP016/Desktop/%EA%B0%9C%EC%9D%B8workspace/TIL/clean_code/02.PythonicCode.ipynb#ch0000011?line=20'>21</a>\u001b[0m     \u001b[39mself\u001b[39m\u001b[39m.\u001b[39m_email \u001b[39m=\u001b[39m new_email\n",
      "\u001b[1;31mValueError\u001b[0m: 유효한 이메일이 아니므로 hhh.aaa@ 값을 사용할 수 없음"
     ]
    }
   ],
   "source": [
    "import re\n",
    "\n",
    "EMAIL_FORMAT = re.compile(r\"[^@]+@[^@]+[^@]+\")\n",
    "\n",
    "def is_valid_email(potentially_valid_email: str):\n",
    "    return re.match(EMAIL_FORMAT, potentially_valid_email) is not None\n",
    "\n",
    "class User:\n",
    "    def __init__(self, username):\n",
    "        self.username = username\n",
    "        self._email = None\n",
    "\n",
    "    @property\n",
    "    def email(self):\n",
    "        return self._email\n",
    "\n",
    "    @email.setter\n",
    "    def email(self, new_email):\n",
    "        if not is_valid_email(new_email):\n",
    "            raise ValueError(f\"유효한 이메일이 아니므로 {new_email} 값을 사용할 수 없음\")\n",
    "        self._email = new_email\n",
    "\n",
    "user = User(\"hhh.aaa\")\n",
    "user.email = \"hhh.aaa@\""
   ]
  },
  {
   "cell_type": "code",
   "execution_count": null,
   "id": "1ebf6439",
   "metadata": {},
   "outputs": [],
   "source": []
  },
  {
   "cell_type": "code",
   "execution_count": null,
   "id": "afb6a04f",
   "metadata": {},
   "outputs": [],
   "source": []
  }
 ],
 "metadata": {
  "kernelspec": {
   "display_name": "Python 3 (ipykernel)",
   "language": "python",
   "name": "python3"
  },
  "language_info": {
   "codemirror_mode": {
    "name": "ipython",
    "version": 3
   },
   "file_extension": ".py",
   "mimetype": "text/x-python",
   "name": "python",
   "nbconvert_exporter": "python",
   "pygments_lexer": "ipython3",
   "version": "3.9.7"
  }
 },
 "nbformat": 4,
 "nbformat_minor": 5
}
