{
 "cells": [
  {
   "cell_type": "markdown",
   "id": "971bedc5-b281-4ef5-9072-dd17efb103f1",
   "metadata": {},
   "source": [
    "## Chapter 2. 파이썬스러운(pythonic) 코드"
   ]
  },
  {
   "cell_type": "code",
   "execution_count": 2,
   "id": "2babac2a-3e0d-4441-a930-d203ba40045c",
   "metadata": {},
   "outputs": [
    {
     "name": "stdout",
     "output_type": "stream",
     "text": [
      "음수 인덱스: 9 5\n",
      "slice 1: (3, 9)\n",
      "slice 2: (4, 5, 3)\n",
      "slice 3: (9,)\n",
      "slice 4: (9, 3, 5, 4)\n",
      "\n",
      "\n",
      "slice index: (5, 9)\n",
      "slice object: (5, 9)\n",
      "\n",
      "\n",
      "slice object vs index: True\n"
     ]
    }
   ],
   "source": [
    "my_numbers = (4, 5, 3, 9)\n",
    "\n",
    "print(\"음수 인덱스:\", my_numbers[-1], my_numbers[-3])\n",
    "print(\"slice 1:\", my_numbers[2:5])\n",
    "print(\"slice 2:\", my_numbers[:3])\n",
    "print(\"slice 3:\", my_numbers[3:])\n",
    "print(\"slice 4:\", my_numbers[::-1])\n",
    "\n",
    "print(\"\\n\")\n",
    "print(\"slice index:\", my_numbers[1:7:2])\n",
    "print(\"slice object:\", my_numbers[slice(1, 7, 2)])\n",
    "\n",
    "print(\"\\n\")\n",
    "interval = slice(None, 3)\n",
    "print(\"slice object vs index:\", my_numbers[interval] == my_numbers[:3])"
   ]
  },
  {
   "cell_type": "code",
   "execution_count": 1,
   "id": "a0636889-6ea6-4a2d-8bac-df05d45966e3",
   "metadata": {},
   "outputs": [],
   "source": [
    "\"\"\" list wrapping 사례 \"\"\"\n",
    "\n",
    "class Item:\n",
    "    def __init__(self, *values):\n",
    "        self._value = list(values)\n",
    "    \n",
    "    def __len__(self):\n",
    "        return len(self._value)\n",
    "\n",
    "    def __getitem__(self, index):\n",
    "        return self._value.__getitem__(index)"
   ]
  },
  {
   "cell_type": "code",
   "execution_count": 2,
   "id": "bc2188c6-83f4-4f1e-9179-6d7055adf075",
   "metadata": {},
   "outputs": [
    {
     "name": "stdout",
     "output_type": "stream",
     "text": [
      "3\n",
      "[4, 5]\n",
      "<class 'list'>\n"
     ]
    }
   ],
   "source": [
    "item = Item(3, 4, 5)\n",
    "print(len(item))\n",
    "print(item[1:])\n",
    "print(type(item[1:]))"
   ]
  },
  {
   "cell_type": "code",
   "execution_count": 7,
   "id": "05b0e8db-24bd-44d9-9001-83a56ce4f416",
   "metadata": {},
   "outputs": [
    {
     "data": {
      "text/plain": [
       "<__main__.Item at 0x211d4835040>"
      ]
     },
     "execution_count": 7,
     "metadata": {},
     "output_type": "execute_result"
    }
   ],
   "source": [
    "Item(3,4,5)"
   ]
  },
  {
   "cell_type": "code",
   "execution_count": 70,
   "id": "fef1fc32-f024-46a8-aaae-0b7643fb69ee",
   "metadata": {},
   "outputs": [
    {
     "name": "stdout",
     "output_type": "stream",
     "text": [
      "systemctl stop postgresql.service\n",
      "pg_dump database\n",
      "systemctl start postgresql.service\n"
     ]
    }
   ],
   "source": [
    "\"\"\" 컨텍스트 관리자를 활용한 DB Dump 사례 \"\"\"\n",
    "\n",
    "def stop_database():\n",
    "    print(\"systemctl stop postgresql.service\")\n",
    "\n",
    "def start_database():\n",
    "    print(\"systemctl start postgresql.service\")\n",
    "\n",
    "\n",
    "class DBHandler:\n",
    "    def __enter__(self):\n",
    "        stop_database()\n",
    "        return self\n",
    "\n",
    "    def __exit__(self, exc_type, ex_value, ex_traceback):\n",
    "        start_database()\n",
    "\n",
    "\n",
    "def db_backup():\n",
    "    print(\"pg_dump database\")\n",
    "\n",
    "def main():\n",
    "    with DBHandler():\n",
    "        db_backup()\n",
    "\n",
    "main()"
   ]
  },
  {
   "cell_type": "code",
   "execution_count": 71,
   "id": "aa882a5d",
   "metadata": {},
   "outputs": [
    {
     "name": "stdout",
     "output_type": "stream",
     "text": [
      "systemctl stop postgresql.service\n",
      "pg_dump database\n",
      "systemctl start postgresql.service\n"
     ]
    }
   ],
   "source": [
    "import contextlib\n",
    "\n",
    "@contextlib.contextmanager\n",
    "def db_handler():\n",
    "    stop_database()\n",
    "    yield\n",
    "    start_database()\n",
    "\n",
    "def main():\n",
    "    with db_handler():\n",
    "        db_backup()\n",
    "\n",
    "main()"
   ]
  },
  {
   "cell_type": "code",
   "execution_count": 72,
   "id": "3be549a9",
   "metadata": {},
   "outputs": [],
   "source": [
    "import contextlib\n",
    "\n",
    "class dbhandler_decorator(contextlib.ContextDecorator):\n",
    "    def __enter__(self):\n",
    "        stop_database()\n",
    "\n",
    "    def __exit__(self, ext_type, ex_value, ex_traceback):\n",
    "        start_database()\n",
    "\n",
    "@dbhandler_decorator()\n",
    "def offline_backup():\n",
    "    print(\"pg_dump database\")"
   ]
  },
  {
   "cell_type": "code",
   "execution_count": 73,
   "id": "38326821",
   "metadata": {},
   "outputs": [
    {
     "name": "stdout",
     "output_type": "stream",
     "text": [
      "{'source': 'postgresql://localhost', '_timeout': 70}\n"
     ]
    }
   ],
   "source": [
    "class Connector:\n",
    "    def __init__(self, source):\n",
    "        self.source = source\n",
    "        self._timeout = 60 # 하나의 밑줄\n",
    "\n",
    "conn = Connector(\"postgresql://localhost\")\n",
    "\n",
    "conn._timeout = 70\n",
    "print(conn.__dict__)"
   ]
  },
  {
   "cell_type": "code",
   "execution_count": 74,
   "id": "931c4e8d",
   "metadata": {},
   "outputs": [
    {
     "ename": "AttributeError",
     "evalue": "'Connector' object has no attribute '__timeout'",
     "output_type": "error",
     "traceback": [
      "\u001b[1;31m---------------------------------------------------------------------------\u001b[0m",
      "\u001b[1;31mAttributeError\u001b[0m                            Traceback (most recent call last)",
      "\u001b[1;32mc:\\Users\\INP016\\Desktop\\개인workspace\\TIL\\clean_code\\02.PythonicCode.ipynb Cell 10'\u001b[0m in \u001b[0;36m<cell line: 8>\u001b[1;34m()\u001b[0m\n\u001b[0;32m      <a href='vscode-notebook-cell:/c%3A/Users/INP016/Desktop/%EA%B0%9C%EC%9D%B8workspace/TIL/clean_code/02.PythonicCode.ipynb#ch0000009?line=3'>4</a>\u001b[0m         \u001b[39mself\u001b[39m\u001b[39m.\u001b[39m__timeout \u001b[39m=\u001b[39m \u001b[39m60\u001b[39m \u001b[39m# 두 개의 밑줄\u001b[39;00m\n\u001b[0;32m      <a href='vscode-notebook-cell:/c%3A/Users/INP016/Desktop/%EA%B0%9C%EC%9D%B8workspace/TIL/clean_code/02.PythonicCode.ipynb#ch0000009?line=5'>6</a>\u001b[0m conn \u001b[39m=\u001b[39m Connector(\u001b[39m\"\u001b[39m\u001b[39mpostgresql://localhost\u001b[39m\u001b[39m\"\u001b[39m)\n\u001b[1;32m----> <a href='vscode-notebook-cell:/c%3A/Users/INP016/Desktop/%EA%B0%9C%EC%9D%B8workspace/TIL/clean_code/02.PythonicCode.ipynb#ch0000009?line=7'>8</a>\u001b[0m conn\u001b[39m.\u001b[39;49m__timeout\n",
      "\u001b[1;31mAttributeError\u001b[0m: 'Connector' object has no attribute '__timeout'"
     ]
    }
   ],
   "source": [
    "class Connector:\n",
    "    def __init__(self, source):\n",
    "        self.source = source\n",
    "        self.__timeout = 60 # 두 개의 밑줄\n",
    "\n",
    "conn = Connector(\"postgresql://localhost\")\n",
    "\n",
    "conn.__timeout # \"접근할 수 없다\"가 아닌 \"존재하지 않는다\"는 오류 발생"
   ]
  },
  {
   "cell_type": "code",
   "execution_count": 75,
   "id": "711be66a",
   "metadata": {},
   "outputs": [
    {
     "name": "stdout",
     "output_type": "stream",
     "text": [
      "{'source': 'postgresql://localhost', '_Connector__timeout': 80}\n"
     ]
    }
   ],
   "source": [
    "conn._Connector__timeout = 80 # 이름이 바뀌어 있음\n",
    "print(conn.__dict__)"
   ]
  },
  {
   "cell_type": "code",
   "execution_count": 1,
   "id": "4c2cd56f",
   "metadata": {},
   "outputs": [],
   "source": [
    "import re\n",
    "\n",
    "EMAIL_FORMAT = re.compile(r\"[^@]+@[^@]+[^@]+\")\n",
    "\n",
    "def is_valid_email(potentially_valid_email: str):\n",
    "    return re.match(EMAIL_FORMAT, potentially_valid_email) is not None\n",
    "\n",
    "class User:\n",
    "    def __init__(self, username):\n",
    "        self.username = username\n",
    "        self._email = None\n",
    "\n",
    "    @property\n",
    "    def email(self):\n",
    "        return self._email\n",
    "\n",
    "    @email.setter\n",
    "    def email(self, new_email):\n",
    "        if not is_valid_email(new_email):\n",
    "            raise ValueError(f\"유효한 이메일이 아니므로 {new_email} 값을 사용할 수 없음\")\n",
    "        self._email = new_email\n"
   ]
  },
  {
   "cell_type": "code",
   "execution_count": 20,
   "id": "1ebf6439",
   "metadata": {},
   "outputs": [],
   "source": [
    "class Person:\n",
    "    \n",
    "    def __init__(self, name : str, age : int):\n",
    "        self.name = name\n",
    "        self.age = age\n",
    "        \n",
    "person = Person(\"Json\", 24)"
   ]
  },
  {
   "cell_type": "code",
   "execution_count": 21,
   "id": "afb6a04f",
   "metadata": {},
   "outputs": [
    {
     "name": "stdout",
     "output_type": "stream",
     "text": [
      "Json 24\n"
     ]
    }
   ],
   "source": [
    "print(person.name, person.age)"
   ]
  },
  {
   "cell_type": "code",
   "execution_count": 23,
   "id": "dee1f1ee-9f76-4599-944f-161f1c77d45d",
   "metadata": {},
   "outputs": [
    {
     "name": "stdout",
     "output_type": "stream",
     "text": [
      "10 -100\n"
     ]
    }
   ],
   "source": [
    "person.name = 10 # 문자열로 써야하지만 정수를 저장함\n",
    "person.age = -100 # 나이는 마이너스가 없지만 마이너스 값을 저장함\n",
    "print(person.name, person.age)"
   ]
  },
  {
   "cell_type": "markdown",
   "id": "d51ea8fc-340d-4321-b072-e9e778013a4f",
   "metadata": {},
   "source": [
    "### Person 클래스는 문자열을 저장하는 name이라는 필드와 정수를 저장하는 age라는 필드를 가지고 있다. 하지만 타입에 대한 강제성이 없는 파이썬은 외부에서 필드에 직접 접근하여 엉뚱한 값으로 수정할 때 방어 할 수 있는 방법이 없다.\n",
    ">필드를 외부에서 직접 접근하면 객체가 `잘못된 상태`를 가질 수 있다. 그래서 getter와 setter를 사용하는 것이 좋다.\n",
    "\n",
    "- 이와 같은 상황을 방지하기 위해 아래와 같이 name, age 필드를 직접 접근하는 대신 getter와 setter 함수를 만들어 값을 저장하거나 참조 할 때, 값에 대한 유효성을 검사할 수 있다."
   ]
  },
  {
   "cell_type": "code",
   "execution_count": 77,
   "id": "b8b315e5-5359-47d6-a8be-0642e68c3a2c",
   "metadata": {},
   "outputs": [],
   "source": [
    "class Person:\n",
    "    \n",
    "    def __init__(self, name :str, age : int):\n",
    "        self.__name = name\n",
    "        self.__age = age\n",
    "        \n",
    "    def get_name(self):\n",
    "        return self.__name\n",
    "    \n",
    "    def set_name(self, name):\n",
    "        if True != isinstance(name, str):\n",
    "            raise ValueError('name should be str type')\n",
    "        self.__name = name\n",
    "        \n",
    "    def get_age(self):    # getter of age\n",
    "        return self.__age\n",
    "    \n",
    "    def set_age(self, age):\n",
    "        if True != isinstance(age, int) or 0 > age:\n",
    "            raise ValueError('age should be int type and not be negative')\n",
    "        self.__age = age\n",
    "        \n",
    "person = Person('Json', 24)\n",
    "#print(person.get_name(), person.get_age)\n",
    "        "
   ]
  },
  {
   "cell_type": "code",
   "execution_count": 73,
   "id": "54f2901e-6a89-4721-b541-99bdf236ad2b",
   "metadata": {},
   "outputs": [
    {
     "data": {
      "text/plain": [
       "24"
      ]
     },
     "execution_count": 73,
     "metadata": {},
     "output_type": "execute_result"
    }
   ],
   "source": [
    "person.get_age()"
   ]
  },
  {
   "cell_type": "code",
   "execution_count": 74,
   "id": "1d9875a0-cb72-402c-844a-00380c65fcc4",
   "metadata": {},
   "outputs": [],
   "source": [
    "person = Person(24,'json')"
   ]
  },
  {
   "cell_type": "code",
   "execution_count": 81,
   "id": "9468713d-c92a-40a2-8f19-f7e95bd99519",
   "metadata": {},
   "outputs": [
    {
     "data": {
      "text/plain": [
       "14"
      ]
     },
     "execution_count": 81,
     "metadata": {},
     "output_type": "execute_result"
    }
   ],
   "source": [
    "person.get_age()"
   ]
  },
  {
   "cell_type": "code",
   "execution_count": 76,
   "id": "86664584-ce0d-4355-ac9b-0f9a936e9719",
   "metadata": {},
   "outputs": [
    {
     "data": {
      "text/plain": [
       "24"
      ]
     },
     "execution_count": 76,
     "metadata": {},
     "output_type": "execute_result"
    }
   ],
   "source": [
    "person.get_name()"
   ]
  },
  {
   "cell_type": "code",
   "execution_count": 80,
   "id": "53220383-7b93-4b88-9b61-926b47fedb80",
   "metadata": {},
   "outputs": [
    {
     "ename": "ValueError",
     "evalue": "age should be int type and not be negative",
     "output_type": "error",
     "traceback": [
      "\u001b[1;31m---------------------------------------------------------------------------\u001b[0m",
      "\u001b[1;31mValueError\u001b[0m                                Traceback (most recent call last)",
      "Input \u001b[1;32mIn [80]\u001b[0m, in \u001b[0;36m<cell line: 1>\u001b[1;34m()\u001b[0m\n\u001b[1;32m----> 1\u001b[0m \u001b[43mperson\u001b[49m\u001b[38;5;241;43m.\u001b[39;49m\u001b[43mset_age\u001b[49m\u001b[43m(\u001b[49m\u001b[38;5;124;43m'\u001b[39;49m\u001b[38;5;124;43mstr\u001b[39;49m\u001b[38;5;124;43m'\u001b[39;49m\u001b[43m)\u001b[49m\n\u001b[0;32m      2\u001b[0m person\u001b[38;5;241m.\u001b[39mget_age()\n",
      "Input \u001b[1;32mIn [77]\u001b[0m, in \u001b[0;36mPerson.set_age\u001b[1;34m(self, age)\u001b[0m\n\u001b[0;32m     18\u001b[0m \u001b[38;5;28;01mdef\u001b[39;00m \u001b[38;5;21mset_age\u001b[39m(\u001b[38;5;28mself\u001b[39m, age):\n\u001b[0;32m     19\u001b[0m     \u001b[38;5;28;01mif\u001b[39;00m \u001b[38;5;28;01mTrue\u001b[39;00m \u001b[38;5;241m!=\u001b[39m \u001b[38;5;28misinstance\u001b[39m(age, \u001b[38;5;28mint\u001b[39m) \u001b[38;5;129;01mor\u001b[39;00m \u001b[38;5;241m0\u001b[39m \u001b[38;5;241m>\u001b[39m age:\n\u001b[1;32m---> 20\u001b[0m         \u001b[38;5;28;01mraise\u001b[39;00m \u001b[38;5;167;01mValueError\u001b[39;00m(\u001b[38;5;124m'\u001b[39m\u001b[38;5;124mage should be int type and not be negative\u001b[39m\u001b[38;5;124m'\u001b[39m)\n\u001b[0;32m     21\u001b[0m     \u001b[38;5;28mself\u001b[39m\u001b[38;5;241m.\u001b[39m__age \u001b[38;5;241m=\u001b[39m age\n",
      "\u001b[1;31mValueError\u001b[0m: age should be int type and not be negative"
     ]
    }
   ],
   "source": [
    "person.set_age('str')\n",
    "person.get_age()"
   ]
  },
  {
   "cell_type": "code",
   "execution_count": 49,
   "id": "226efe56-6805-42d2-b3c3-bea5572e3a20",
   "metadata": {},
   "outputs": [],
   "source": [
    "### 필드값을 저장할때 class로 접근하면 에러안뜸, set_age, set_name 으로 접근하면 에러"
   ]
  },
  {
   "cell_type": "code",
   "execution_count": 84,
   "id": "fc1921b4-78d3-41ab-a656-884e1d2b0480",
   "metadata": {},
   "outputs": [],
   "source": [
    "class Person:\n",
    "    def __init__(self, name : str, age : int):\n",
    "        self.__name = name\n",
    "        self.__age = age\n",
    "        \n",
    "    def get_name(self):\n",
    "        return self.__name\n",
    "    \n",
    "    def set_name(self, name):\n",
    "        if True != isinstance(name, str):\n",
    "            raise ValueError('name should be str type')            \n",
    "        self.__name = name\n",
    "        \n",
    "    name = property(get_name, set_name) # name에 대한 property\n",
    "    \n",
    "    def get_age(self):\n",
    "        return self.__age\n",
    "    \n",
    "    def set_age(self, age):\n",
    "        if True != isinstance(age, int) or 0 > age:\n",
    "            raise ValueError('age should be int and not be negative')\n",
    "        self.__age = age\n",
    "        \n",
    "    age = property(get_age, set_age)    # age에 대한 property\n",
    "    \n",
    "person = Person('Jason', '24')"
   ]
  },
  {
   "cell_type": "code",
   "execution_count": 85,
   "id": "e007ddbc-66aa-47d4-9003-690121175b32",
   "metadata": {},
   "outputs": [
    {
     "name": "stdout",
     "output_type": "stream",
     "text": [
      "Jason 24\n"
     ]
    }
   ],
   "source": [
    "print(person.name, person.age)"
   ]
  },
  {
   "cell_type": "code",
   "execution_count": 86,
   "id": "cf450287-f28a-4454-91f6-be4fee7a4169",
   "metadata": {},
   "outputs": [],
   "source": [
    "#person.name = 10                 \n",
    "#person.age = -100"
   ]
  },
  {
   "cell_type": "code",
   "execution_count": 87,
   "id": "b0658576-e4bd-4df4-b7cd-12c726feefaa",
   "metadata": {},
   "outputs": [],
   "source": [
    "# 15라인과 25라인에 프로퍼티를 사용한 것을 주목하자. property 의 첫 번째 인자로 필드의 값을 리턴하는 getter함수를, 두 번째 인자로 setter함수를 넘겨 주었고, 각각 name과 age 라는 property 객체를 만들어 저장했다.\n",
    "# 위 예제에서는 getter, setter 함수가 아닌 일반 필드에 접근하는 것과 같이 name, age를 사용했지만 내부적으로 set_name, set_age를 통해 값에 대한 유효성 검증을 하는 것을 볼 수 있다.\n",
    "# 만일 getter가 필요 없거나 setter가 필요없는 경우에는 아래 처럼 프로퍼티 객체 생성시 인자를 조절해 주면 된다."
   ]
  },
  {
   "cell_type": "code",
   "execution_count": 89,
   "id": "b38dffd5-a2b4-452f-92ea-87c9d194175e",
   "metadata": {},
   "outputs": [],
   "source": [
    "# name = property(get_name, set_name) getter, setter 둘다 필요한 경우\n",
    "# name = property(get_name) getter 만 필요한 경우\n",
    "# name = property(None, set_name) setter 만 필요한 경우"
   ]
  },
  {
   "cell_type": "markdown",
   "id": "e65d647c-1288-41d8-91b3-716c0785d06e",
   "metadata": {},
   "source": [
    "### @property 데코레이터\n",
    "\n",
    "property 클래스를 이용해 getter, setter를 일반 필드 처럼 사용 할 수 있다는 것을 앞에서 살펴 보았다. 지금 부터는 데코레이터를 이용하는 방법에 대해 살펴보도록 한다. 기능은 property 클래스와 동일하지만 데코레이터를 이용하면 데코레이터 자체가 함수의 주석과 같은 역할을 하며 코드의 가독성이 좀더 높아지게 된다. 하지만 이 부분은 개인적 취향에 따라 다르므로 그냥 데코레이터를 이용하는 방법도 있다는 것에 주목하자."
   ]
  },
  {
   "cell_type": "code",
   "execution_count": 114,
   "id": "9ececfe6-89c5-43d3-8a6f-24efe68f14c1",
   "metadata": {},
   "outputs": [],
   "source": [
    "class Person:\n",
    "    \n",
    "    def __init__(self, name : str, age : int):\n",
    "        self.__name = name\n",
    "        self.__age = age\n",
    "        \n",
    "    @property\n",
    "    def name(self):\n",
    "        return self.__name\n",
    "    \n",
    "    @name.setter\n",
    "    def name(self, name):\n",
    "        if True != isinstance(name, str):\n",
    "            raise ValueError('name should be str types')\n",
    "        self.__name = name\n",
    "        \n",
    "    @property\n",
    "    def age(self):\n",
    "        return self.__age\n",
    "    \n",
    "    @age.setter\n",
    "    def age(self, age):\n",
    "        if True != isinstance(age, int) or 0 >age:\n",
    "            raise ValueError('age should be int types')\n",
    "        self.__age = age\n",
    "        \n",
    "person =Person('himaN', '15')"
   ]
  },
  {
   "cell_type": "code",
   "execution_count": 115,
   "id": "b1d16210-7a52-475b-b842-b589b2d5bd8c",
   "metadata": {},
   "outputs": [
    {
     "name": "stdout",
     "output_type": "stream",
     "text": [
      "himaN 15\n"
     ]
    }
   ],
   "source": [
    "print(person.name, person.age)"
   ]
  },
  {
   "cell_type": "code",
   "execution_count": 116,
   "id": "6c854e79-7c03-41e2-a4f8-00a02bdfc92d",
   "metadata": {},
   "outputs": [
    {
     "ename": "ValueError",
     "evalue": "name should be str types",
     "output_type": "error",
     "traceback": [
      "\u001b[1;31m---------------------------------------------------------------------------\u001b[0m",
      "\u001b[1;31mValueError\u001b[0m                                Traceback (most recent call last)",
      "Input \u001b[1;32mIn [116]\u001b[0m, in \u001b[0;36m<cell line: 1>\u001b[1;34m()\u001b[0m\n\u001b[1;32m----> 1\u001b[0m person\u001b[38;5;241m.\u001b[39mname \u001b[38;5;241m=\u001b[39m\u001b[38;5;241m10\u001b[39m\n",
      "Input \u001b[1;32mIn [114]\u001b[0m, in \u001b[0;36mPerson.name\u001b[1;34m(self, name)\u001b[0m\n\u001b[0;32m     11\u001b[0m \u001b[38;5;129m@name\u001b[39m\u001b[38;5;241m.\u001b[39msetter\n\u001b[0;32m     12\u001b[0m \u001b[38;5;28;01mdef\u001b[39;00m \u001b[38;5;21mname\u001b[39m(\u001b[38;5;28mself\u001b[39m, name):\n\u001b[0;32m     13\u001b[0m     \u001b[38;5;28;01mif\u001b[39;00m \u001b[38;5;28;01mTrue\u001b[39;00m \u001b[38;5;241m!=\u001b[39m \u001b[38;5;28misinstance\u001b[39m(name, \u001b[38;5;28mstr\u001b[39m):\n\u001b[1;32m---> 14\u001b[0m         \u001b[38;5;28;01mraise\u001b[39;00m \u001b[38;5;167;01mValueError\u001b[39;00m(\u001b[38;5;124m'\u001b[39m\u001b[38;5;124mname should be str types\u001b[39m\u001b[38;5;124m'\u001b[39m)\n\u001b[0;32m     15\u001b[0m     \u001b[38;5;28mself\u001b[39m\u001b[38;5;241m.\u001b[39m__name \u001b[38;5;241m=\u001b[39m name\n",
      "\u001b[1;31mValueError\u001b[0m: name should be str types"
     ]
    }
   ],
   "source": [
    "person.name =10"
   ]
  },
  {
   "cell_type": "code",
   "execution_count": 117,
   "id": "2eff8c2d-3ece-425f-8e2e-61c09550279b",
   "metadata": {},
   "outputs": [],
   "source": [
    "person.name = 'himan2'"
   ]
  },
  {
   "cell_type": "code",
   "execution_count": 118,
   "id": "30cb0d9b-848b-4d6c-b7bb-bac9e899c4e2",
   "metadata": {},
   "outputs": [
    {
     "ename": "ValueError",
     "evalue": "age should be int types",
     "output_type": "error",
     "traceback": [
      "\u001b[1;31m---------------------------------------------------------------------------\u001b[0m",
      "\u001b[1;31mValueError\u001b[0m                                Traceback (most recent call last)",
      "Input \u001b[1;32mIn [118]\u001b[0m, in \u001b[0;36m<cell line: 1>\u001b[1;34m()\u001b[0m\n\u001b[1;32m----> 1\u001b[0m person\u001b[38;5;241m.\u001b[39mage \u001b[38;5;241m=\u001b[39m \u001b[38;5;241m-\u001b[39m\u001b[38;5;241m100\u001b[39m\n",
      "Input \u001b[1;32mIn [114]\u001b[0m, in \u001b[0;36mPerson.age\u001b[1;34m(self, age)\u001b[0m\n\u001b[0;32m     21\u001b[0m \u001b[38;5;129m@age\u001b[39m\u001b[38;5;241m.\u001b[39msetter\n\u001b[0;32m     22\u001b[0m \u001b[38;5;28;01mdef\u001b[39;00m \u001b[38;5;21mage\u001b[39m(\u001b[38;5;28mself\u001b[39m, age):\n\u001b[0;32m     23\u001b[0m     \u001b[38;5;28;01mif\u001b[39;00m \u001b[38;5;28;01mTrue\u001b[39;00m \u001b[38;5;241m!=\u001b[39m \u001b[38;5;28misinstance\u001b[39m(age, \u001b[38;5;28mint\u001b[39m) \u001b[38;5;129;01mor\u001b[39;00m \u001b[38;5;241m0\u001b[39m \u001b[38;5;241m>\u001b[39mage:\n\u001b[1;32m---> 24\u001b[0m         \u001b[38;5;28;01mraise\u001b[39;00m \u001b[38;5;167;01mValueError\u001b[39;00m(\u001b[38;5;124m'\u001b[39m\u001b[38;5;124mage should be int types\u001b[39m\u001b[38;5;124m'\u001b[39m)\n\u001b[0;32m     25\u001b[0m     \u001b[38;5;28mself\u001b[39m\u001b[38;5;241m.\u001b[39m__age \u001b[38;5;241m=\u001b[39m age\n",
      "\u001b[1;31mValueError\u001b[0m: age should be int types"
     ]
    }
   ],
   "source": [
    "person.age = -100"
   ]
  },
  {
   "cell_type": "code",
   "execution_count": 119,
   "id": "eee99f4b-ac04-4b1b-bde5-bb7749d76170",
   "metadata": {},
   "outputs": [],
   "source": [
    "person.age = 100"
   ]
  },
  {
   "cell_type": "code",
   "execution_count": 120,
   "id": "2961a1af-1f80-4523-bf88-03581f4a7df3",
   "metadata": {},
   "outputs": [
    {
     "data": {
      "text/plain": [
       "100"
      ]
     },
     "execution_count": 120,
     "metadata": {},
     "output_type": "execute_result"
    }
   ],
   "source": [
    "person.age"
   ]
  },
  {
   "cell_type": "markdown",
   "id": "bc43e7bf-cc3a-4898-939e-f7f1dcef3f88",
   "metadata": {},
   "source": [
    "### 이터러블 객체"
   ]
  },
  {
   "cell_type": "code",
   "execution_count": 126,
   "id": "092d9834-894c-4000-b37c-fd0af49d84b6",
   "metadata": {},
   "outputs": [],
   "source": [
    "from datetime import timedelta\n",
    "from datetime import date\n",
    "\n",
    "class DateRangeIterable:\n",
    "    \"\"\"자체 이터레이터 메서드를 가지고 있는 이터러블\"\"\"\n",
    "    \n",
    "    def __init__(self, start_date, end_date):\n",
    "        self.start_date = start_date\n",
    "        self.end_date = end_date\n",
    "        self._present_day = start_date\n",
    "    \n",
    "    def __iter__(self):\n",
    "        return self    # 자신이 이터러블임을 나타냄\n",
    "    \n",
    "    def __next__(self):\n",
    "        if self._present_day >= self.end_date:\n",
    "            raise StopIteration\n",
    "            \n",
    "        today = self._present_day\n",
    "        self._present_day += timedelta(days=1)\n",
    "        return today"
   ]
  },
  {
   "cell_type": "code",
   "execution_count": 127,
   "id": "677633f8-ccb0-4ad4-870c-943b65988c1d",
   "metadata": {},
   "outputs": [
    {
     "name": "stdout",
     "output_type": "stream",
     "text": [
      "2019-01-01\n",
      "2019-01-02\n",
      "2019-01-03\n",
      "2019-01-04\n"
     ]
    }
   ],
   "source": [
    "for day in DateRangeIterable(date(2019, 1, 1), date(2019, 1, 5)):\n",
    "    print(day)"
   ]
  },
  {
   "cell_type": "code",
   "execution_count": 132,
   "id": "9d8f7838-0927-4863-9586-b051b129f918",
   "metadata": {},
   "outputs": [
    {
     "data": {
      "text/plain": [
       "datetime.date(2019, 1, 1)"
      ]
     },
     "execution_count": 132,
     "metadata": {},
     "output_type": "execute_result"
    }
   ],
   "source": [
    "r = DateRangeIterable(date(2019, 1, 1), date(2019, 1, 5))\n",
    "next(r)"
   ]
  },
  {
   "cell_type": "code",
   "execution_count": 133,
   "id": "1b6c5f6c-99fe-4492-92ca-8c572e3043b1",
   "metadata": {},
   "outputs": [
    {
     "data": {
      "text/plain": [
       "datetime.date(2019, 1, 2)"
      ]
     },
     "execution_count": 133,
     "metadata": {},
     "output_type": "execute_result"
    }
   ],
   "source": [
    "next(r)"
   ]
  },
  {
   "cell_type": "code",
   "execution_count": 134,
   "id": "ecdc5557-817d-42fe-8f35-5ef1dd0108d8",
   "metadata": {},
   "outputs": [
    {
     "data": {
      "text/plain": [
       "datetime.date(2019, 1, 3)"
      ]
     },
     "execution_count": 134,
     "metadata": {},
     "output_type": "execute_result"
    }
   ],
   "source": [
    "next(r)"
   ]
  },
  {
   "cell_type": "code",
   "execution_count": 135,
   "id": "0bf1198d-8028-4c3c-8d8a-dc2423410494",
   "metadata": {},
   "outputs": [
    {
     "data": {
      "text/plain": [
       "datetime.date(2019, 1, 4)"
      ]
     },
     "execution_count": 135,
     "metadata": {},
     "output_type": "execute_result"
    }
   ],
   "source": [
    "next(r)"
   ]
  },
  {
   "cell_type": "code",
   "execution_count": 137,
   "id": "d0698c27-fd0f-44b8-b1b4-9b307723b7f5",
   "metadata": {},
   "outputs": [
    {
     "ename": "StopIteration",
     "evalue": "",
     "output_type": "error",
     "traceback": [
      "\u001b[1;31m---------------------------------------------------------------------------\u001b[0m",
      "\u001b[1;31mStopIteration\u001b[0m                             Traceback (most recent call last)",
      "Input \u001b[1;32mIn [137]\u001b[0m, in \u001b[0;36m<cell line: 1>\u001b[1;34m()\u001b[0m\n\u001b[1;32m----> 1\u001b[0m \u001b[38;5;28;43mnext\u001b[39;49m\u001b[43m(\u001b[49m\u001b[43mr\u001b[49m\u001b[43m)\u001b[49m\n",
      "Input \u001b[1;32mIn [126]\u001b[0m, in \u001b[0;36mDateRangeIterable.__next__\u001b[1;34m(self)\u001b[0m\n\u001b[0;32m     15\u001b[0m \u001b[38;5;28;01mdef\u001b[39;00m \u001b[38;5;21m__next__\u001b[39m(\u001b[38;5;28mself\u001b[39m):\n\u001b[0;32m     16\u001b[0m     \u001b[38;5;28;01mif\u001b[39;00m \u001b[38;5;28mself\u001b[39m\u001b[38;5;241m.\u001b[39m_present_day \u001b[38;5;241m>\u001b[39m\u001b[38;5;241m=\u001b[39m \u001b[38;5;28mself\u001b[39m\u001b[38;5;241m.\u001b[39mend_date:\n\u001b[1;32m---> 17\u001b[0m         \u001b[38;5;28;01mraise\u001b[39;00m \u001b[38;5;167;01mStopIteration\u001b[39;00m\n\u001b[0;32m     19\u001b[0m     today \u001b[38;5;241m=\u001b[39m \u001b[38;5;28mself\u001b[39m\u001b[38;5;241m.\u001b[39m_present_day\n\u001b[0;32m     20\u001b[0m     \u001b[38;5;28mself\u001b[39m\u001b[38;5;241m.\u001b[39m_present_day \u001b[38;5;241m+\u001b[39m\u001b[38;5;241m=\u001b[39m timedelta(days\u001b[38;5;241m=\u001b[39m\u001b[38;5;241m1\u001b[39m)\n",
      "\u001b[1;31mStopIteration\u001b[0m: "
     ]
    }
   ],
   "source": [
    "next(r)"
   ]
  },
  {
   "cell_type": "code",
   "execution_count": 138,
   "id": "dc94e957-e655-403c-99c1-d396344f75a2",
   "metadata": {},
   "outputs": [
    {
     "data": {
      "text/plain": [
       "'2019-01-01, 2019-01-02, 2019-01-03, 2019-01-04'"
      ]
     },
     "execution_count": 138,
     "metadata": {},
     "output_type": "execute_result"
    }
   ],
   "source": [
    "r1 = DateRangeIterable(date(2019, 1, 1), date(2019, 1, 5))\n",
    "\", \".join(map(str,r1))"
   ]
  },
  {
   "cell_type": "code",
   "execution_count": 139,
   "id": "f012903f-d089-44bb-b8d7-163902c53071",
   "metadata": {},
   "outputs": [
    {
     "ename": "ValueError",
     "evalue": "max() arg is an empty sequence",
     "output_type": "error",
     "traceback": [
      "\u001b[1;31m---------------------------------------------------------------------------\u001b[0m",
      "\u001b[1;31mValueError\u001b[0m                                Traceback (most recent call last)",
      "Input \u001b[1;32mIn [139]\u001b[0m, in \u001b[0;36m<cell line: 1>\u001b[1;34m()\u001b[0m\n\u001b[1;32m----> 1\u001b[0m \u001b[38;5;28;43mmax\u001b[39;49m\u001b[43m(\u001b[49m\u001b[43mr1\u001b[49m\u001b[43m)\u001b[49m\n",
      "\u001b[1;31mValueError\u001b[0m: max() arg is an empty sequence"
     ]
    }
   ],
   "source": [
    "max(r1)"
   ]
  },
  {
   "cell_type": "code",
   "execution_count": 146,
   "id": "5eb54f75-7817-470a-b558-7cb373f16949",
   "metadata": {},
   "outputs": [],
   "source": [
    "class DateRangeContainerIterable:\n",
    "    def __init__(self, start_date, end_date):\n",
    "        self.start_date = start_date\n",
    "        self.end_date = end_date\n",
    "        \n",
    "    def __iter__(self):\n",
    "        current_day = self.start_date\n",
    "        while current_day < self.end_date:\n",
    "            yield current_day\n",
    "            current_day += timedelta(days=1)"
   ]
  },
  {
   "cell_type": "code",
   "execution_count": 147,
   "id": "58f820c6-fc84-4805-979c-0af44bfe075a",
   "metadata": {},
   "outputs": [
    {
     "data": {
      "text/plain": [
       "'2019-01-01, 2019-01-02, 2019-01-03, 2019-01-04'"
      ]
     },
     "execution_count": 147,
     "metadata": {},
     "output_type": "execute_result"
    }
   ],
   "source": [
    "r1 = DateRangeContainerIterable(date(2019, 1, 1), date(2019, 1, 5))\n",
    "\", \".join(map(str,r1))"
   ]
  },
  {
   "cell_type": "code",
   "execution_count": 148,
   "id": "206de502-41c7-451d-87a9-70f140b6834d",
   "metadata": {},
   "outputs": [
    {
     "data": {
      "text/plain": [
       "datetime.date(2019, 1, 4)"
      ]
     },
     "execution_count": 148,
     "metadata": {},
     "output_type": "execute_result"
    }
   ],
   "source": [
    "max(r1)"
   ]
  },
  {
   "cell_type": "code",
   "execution_count": 157,
   "id": "98c4a9f7-cc37-43bb-843c-0cc2b4df9b1b",
   "metadata": {},
   "outputs": [
    {
     "name": "stdout",
     "output_type": "stream",
     "text": [
      "<generator object <genexpr> at 0x0000021441A7A5F0>\n",
      "1\n",
      "2\n",
      "5\n",
      "1\n",
      "2\n",
      "5\n",
      "1\n",
      "4\n",
      "6\n",
      "1\n",
      "3\n",
      "2\n",
      "4\n",
      "5\n",
      "1\n",
      "3\n",
      "5\n",
      "1\n",
      "2\n",
      "3\n",
      "1\n",
      "4\n",
      "5\n",
      "2\n",
      "3\n",
      "1\n",
      "4\n",
      "2\n",
      "3\n",
      "4\n",
      "1\n",
      "2\n",
      "3\n",
      "4\n"
     ]
    }
   ],
   "source": [
    "# 제너레이터 표현식\n",
    "\n",
    "generator_01 = (x for x in \"1251251461324513512314523142341234\")\n",
    "print(generator_01)\n",
    "for i in generator_01:\n",
    "    print(i)"
   ]
  },
  {
   "cell_type": "code",
   "execution_count": 161,
   "id": "94c9ddc5-3f65-4896-90e8-2e6cbb052520",
   "metadata": {},
   "outputs": [],
   "source": [
    "class DateRangeSequence:\n",
    "    def __init__(self, start_date, end_date):\n",
    "        self.start_date = start_date\n",
    "        self.end_date = end_date\n",
    "        self._range = self._create_range()\n",
    "        \n",
    "    def _create_range(self):\n",
    "        days = []\n",
    "        current_day = self.start_date\n",
    "        while current_day < self.end_date:\n",
    "            days.append(current_day)\n",
    "            current_day += timedelta(days=1)\n",
    "            \n",
    "        return days\n",
    "    \n",
    "    def __getitem__(self, day_no):\n",
    "        return self._range[day_no]\n",
    "    \n",
    "    def __len__(self):\n",
    "        return len(self._range)"
   ]
  },
  {
   "cell_type": "code",
   "execution_count": 163,
   "id": "934ed768-6ecf-4eae-9904-e1eab47cea1e",
   "metadata": {},
   "outputs": [
    {
     "name": "stdout",
     "output_type": "stream",
     "text": [
      "2019-01-01\n",
      "2019-01-02\n",
      "2019-01-03\n",
      "2019-01-04\n"
     ]
    }
   ],
   "source": [
    "s1 = DateRangeSequence(date(2019, 1, 1), date(2019, 1, 5))\n",
    "for day in s1:\n",
    "    print(day)"
   ]
  },
  {
   "cell_type": "code",
   "execution_count": 164,
   "id": "5242d7ff-568f-4d01-a94e-2650d9bca854",
   "metadata": {},
   "outputs": [
    {
     "data": {
      "text/plain": [
       "datetime.date(2019, 1, 1)"
      ]
     },
     "execution_count": 164,
     "metadata": {},
     "output_type": "execute_result"
    }
   ],
   "source": [
    "s1[0]"
   ]
  },
  {
   "cell_type": "code",
   "execution_count": 165,
   "id": "8b0bca4f-c40d-4aa5-8d20-536c120dae6b",
   "metadata": {},
   "outputs": [
    {
     "data": {
      "text/plain": [
       "datetime.date(2019, 1, 4)"
      ]
     },
     "execution_count": 165,
     "metadata": {},
     "output_type": "execute_result"
    }
   ],
   "source": [
    "s1[3]"
   ]
  },
  {
   "cell_type": "code",
   "execution_count": 166,
   "id": "4796414d-5c32-4cfb-b78c-5cbf8830e720",
   "metadata": {},
   "outputs": [
    {
     "data": {
      "text/plain": [
       "datetime.date(2019, 1, 4)"
      ]
     },
     "execution_count": 166,
     "metadata": {},
     "output_type": "execute_result"
    }
   ],
   "source": [
    "s1[-1]"
   ]
  },
  {
   "cell_type": "markdown",
   "id": "7e04360a-8cb0-4a0b-9009-6007b47d5f3f",
   "metadata": {},
   "source": [
    "### 컨테이너 객체"
   ]
  },
  {
   "cell_type": "code",
   "execution_count": 171,
   "id": "7afa6bd5-a9f6-4aff-a492-666c0605f5a5",
   "metadata": {},
   "outputs": [],
   "source": [
    "class Boundaries:\n",
    "    def __init__(self, width, height):\n",
    "        self.width = width\n",
    "        self.height = height\n",
    "\n",
    "    def __contains__(self, coord):\n",
    "        x, y = coord\n",
    "        return 0 <=x < self.width and 0 <= y < self.height\n",
    "    \n",
    "class Grid:\n",
    "    def __init__(self, width, height):\n",
    "        self.width = width\n",
    "        self.height = height\n",
    "        self.limits = Boundaries(width, height)\n",
    "\n",
    "    def __contains__(self, coord):\n",
    "        return coord in self.limits\n",
    "\n",
    "def mark_coordiante(grid, coord):\n",
    "    if coord in grid:\n",
    "        print(f\"{coord} is in limit\")\n",
    "    else:\n",
    "        print(f\"{coord} is out of the limit\")"
   ]
  },
  {
   "cell_type": "code",
   "execution_count": 172,
   "id": "ace68b68-2fbb-41d1-8579-d3073594b9a9",
   "metadata": {},
   "outputs": [],
   "source": [
    "def mark_coordinate(grid, coord):\n",
    "    if 0 <= coord.x < grid.width and 0 <= coord.y < grid.height:\n",
    "        grid[coord] = MARKED"
   ]
  },
  {
   "cell_type": "code",
   "execution_count": 182,
   "id": "5c5d49b4-8be5-4a67-8a4e-96fcd60c0d47",
   "metadata": {},
   "outputs": [],
   "source": [
    "class Boundaries:\n",
    "    def __init__(self, width, height):\n",
    "        self.width = width\n",
    "        self.height = height\n",
    "    \n",
    "    def __contains__(self, coord):\n",
    "        x, y = coord\n",
    "        return 0 <= x < self.width and 0 <= y < self.height\n",
    "    \n",
    "class Grid:\n",
    "    def __init__(self, width, height):\n",
    "        self.width = width\n",
    "        self.height = height\n",
    "        self.limits = Boundaries(width, height)\n",
    "        \n",
    "    def __contains__(self, coord):\n",
    "        return coord in self.limits\n",
    "    \n",
    "def mark_coordinate(grid, coord):\n",
    "    if coord in grid:\n",
    "        print(f\"{coord} is in limit\")\n",
    "    else:\n",
    "        print(f\"{coord} is out of the limit\")"
   ]
  },
  {
   "cell_type": "code",
   "execution_count": 186,
   "id": "832fa3dc-87e8-4b84-bc63-40b79dbfe976",
   "metadata": {},
   "outputs": [
    {
     "name": "stdout",
     "output_type": "stream",
     "text": [
      "(3, 4) is in limit\n"
     ]
    }
   ],
   "source": [
    "grid = Grid(4, 5)\n",
    "coord = (3, 4)\n",
    "mark_coordinate(grid, coord)"
   ]
  },
  {
   "cell_type": "markdown",
   "id": "0dce4ece-ca0d-414b-8311-faf7e7d4d23c",
   "metadata": {},
   "source": [
    "### 객체의 동적인 속성\n",
    "\n",
    "- 파이썬은 객체를 호출하면 객체 사전에서 를 찾아서 getattribute를 호출\n",
    "- 객체에 찾고 있는 속성이 없는 경우 객체 이름을 파라미터로 getattr 이라는 추가 메서드가 호출됨"
   ]
  },
  {
   "cell_type": "code",
   "execution_count": 187,
   "id": "139eb096-dc1f-4b4e-a90c-20e02223bc1e",
   "metadata": {},
   "outputs": [],
   "source": [
    "class DynamicAttributes:\n",
    "    def __init__(self, attribute):\n",
    "        self.attribute = attribute\n",
    "        \n",
    "    def __getattr__(self, attr):\n",
    "        if attr.startswith(\"fallback_\"):\n",
    "            name = attr.replace(\"fallback_\", \"\")\n",
    "            return f\"[fallback resolved] {name}\"\n",
    "        raise AttributeError(f\"{self.__class__.__name__}에는 {attr} 속성이 없음.\")"
   ]
  },
  {
   "cell_type": "code",
   "execution_count": 188,
   "id": "c4752df6-879c-4b8c-b078-19ebd29447c8",
   "metadata": {},
   "outputs": [
    {
     "data": {
      "text/plain": [
       "'value'"
      ]
     },
     "execution_count": 188,
     "metadata": {},
     "output_type": "execute_result"
    }
   ],
   "source": [
    "dyn = DynamicAttributes(\"value\")\n",
    "dyn.attribute"
   ]
  },
  {
   "cell_type": "code",
   "execution_count": 189,
   "id": "a9fa5426-795a-4740-a01e-385d90703e27",
   "metadata": {},
   "outputs": [
    {
     "data": {
      "text/plain": [
       "'[fallback resolved] test'"
      ]
     },
     "execution_count": 189,
     "metadata": {},
     "output_type": "execute_result"
    }
   ],
   "source": [
    "dyn.fallback_test"
   ]
  },
  {
   "cell_type": "code",
   "execution_count": 190,
   "id": "1e77d2f5-175b-4078-bf0d-8943141e323c",
   "metadata": {},
   "outputs": [
    {
     "data": {
      "text/plain": [
       "'new value'"
      ]
     },
     "execution_count": 190,
     "metadata": {},
     "output_type": "execute_result"
    }
   ],
   "source": [
    "dyn.__dict__[\"fallback_new\"] = \"new value\"\n",
    "dyn.fallback_new"
   ]
  },
  {
   "cell_type": "code",
   "execution_count": 192,
   "id": "4f7bc14d-59e6-4317-871a-db1b0a9e29e2",
   "metadata": {},
   "outputs": [
    {
     "data": {
      "text/plain": [
       "'default'"
      ]
     },
     "execution_count": 192,
     "metadata": {},
     "output_type": "execute_result"
    }
   ],
   "source": [
    "getattr(dyn, 'something', \"default\")"
   ]
  },
  {
   "cell_type": "code",
   "execution_count": 193,
   "id": "7ee9771f-84f6-470b-a4f1-aeeb62dd1be8",
   "metadata": {},
   "outputs": [
    {
     "ename": "AttributeError",
     "evalue": "DynamicAttributes에는 something 속성이 없음.",
     "output_type": "error",
     "traceback": [
      "\u001b[1;31m---------------------------------------------------------------------------\u001b[0m",
      "\u001b[1;31mAttributeError\u001b[0m                            Traceback (most recent call last)",
      "Input \u001b[1;32mIn [193]\u001b[0m, in \u001b[0;36m<cell line: 1>\u001b[1;34m()\u001b[0m\n\u001b[1;32m----> 1\u001b[0m \u001b[43mdyn\u001b[49m\u001b[38;5;241;43m.\u001b[39;49m\u001b[43msomething\u001b[49m\n",
      "Input \u001b[1;32mIn [187]\u001b[0m, in \u001b[0;36mDynamicAttributes.__getattr__\u001b[1;34m(self, attr)\u001b[0m\n\u001b[0;32m      7\u001b[0m     name \u001b[38;5;241m=\u001b[39m attr\u001b[38;5;241m.\u001b[39mreplace(\u001b[38;5;124m\"\u001b[39m\u001b[38;5;124mfallback_\u001b[39m\u001b[38;5;124m\"\u001b[39m, \u001b[38;5;124m\"\u001b[39m\u001b[38;5;124m\"\u001b[39m)\n\u001b[0;32m      8\u001b[0m     \u001b[38;5;28;01mreturn\u001b[39;00m \u001b[38;5;124mf\u001b[39m\u001b[38;5;124m\"\u001b[39m\u001b[38;5;124m[fallback resolved] \u001b[39m\u001b[38;5;132;01m{\u001b[39;00mname\u001b[38;5;132;01m}\u001b[39;00m\u001b[38;5;124m\"\u001b[39m\n\u001b[1;32m----> 9\u001b[0m \u001b[38;5;28;01mraise\u001b[39;00m \u001b[38;5;167;01mAttributeError\u001b[39;00m(\u001b[38;5;124mf\u001b[39m\u001b[38;5;124m\"\u001b[39m\u001b[38;5;132;01m{\u001b[39;00m\u001b[38;5;28mself\u001b[39m\u001b[38;5;241m.\u001b[39m\u001b[38;5;18m__class__\u001b[39m\u001b[38;5;241m.\u001b[39m\u001b[38;5;18m__name__\u001b[39m\u001b[38;5;132;01m}\u001b[39;00m\u001b[38;5;124m에는 \u001b[39m\u001b[38;5;132;01m{\u001b[39;00mattr\u001b[38;5;132;01m}\u001b[39;00m\u001b[38;5;124m 속성이 없음.\u001b[39m\u001b[38;5;124m\"\u001b[39m)\n",
      "\u001b[1;31mAttributeError\u001b[0m: DynamicAttributes에는 something 속성이 없음."
     ]
    }
   ],
   "source": [
    "dyn.something"
   ]
  },
  {
   "cell_type": "markdown",
   "id": "5fd8c2c2-de67-4c69-aeb7-a40851cfe761",
   "metadata": {},
   "source": [
    "### 호출형(callable) 객체\n",
    "- call을 사용하면 객체를 일반 함수처럼 호출할 수 있음\n",
    "- 여기에 전달된 모든 파라미터는 call 메서드에 그대로 전달됨"
   ]
  },
  {
   "cell_type": "code",
   "execution_count": 196,
   "id": "34da8058-27d0-4572-89be-5c1b8b74b20a",
   "metadata": {},
   "outputs": [],
   "source": [
    "from collections import defaultdict\n",
    "\n",
    "class CallCount:\n",
    "    \n",
    "    def __init__(self):\n",
    "        self._counts = defaultdict(int)\n",
    "        \n",
    "    def __call__(self, argument):\n",
    "        self._counts[argument] += 1\n",
    "\n",
    "        return self._counts[argument]"
   ]
  },
  {
   "cell_type": "code",
   "execution_count": 203,
   "id": "d2752a37-9ad1-4fbf-9c7e-a89ffe86935d",
   "metadata": {},
   "outputs": [
    {
     "name": "stdout",
     "output_type": "stream",
     "text": [
      "1\n",
      "1\n",
      "2\n",
      "2\n",
      "3\n",
      "4\n",
      "5\n",
      "6\n"
     ]
    }
   ],
   "source": [
    "cc = CallCount()\n",
    "print(cc(1))\n",
    "print(cc(2))\n",
    "print(cc(2))\n",
    "print(cc(1))\n",
    "print(cc(1))\n",
    "print(cc(1))\n",
    "print(cc(1))\n",
    "print(cc(1))"
   ]
  },
  {
   "cell_type": "markdown",
   "id": "bf3b111a-31a4-4d10-8300-c91f2c54214e",
   "metadata": {},
   "source": [
    "### 파이썬에서 유의할 점\n",
    "#### 변경 가능한 파라미터의 기본 값\n",
    "- 변경 가능한 객체를 함수의 기본 인자로 사용하면 안됨"
   ]
  },
  {
   "cell_type": "code",
   "execution_count": 204,
   "id": "f54f4273-0a56-432e-a7a0-6aa947679e42",
   "metadata": {},
   "outputs": [],
   "source": [
    "def wrong_user_display(user_metadata: dict = {\"name\":\"John\", \"age\":30}):\n",
    "    name = user_metadata.pop(\"name\")\n",
    "    age = user_metadata.pop(\"age\")\n",
    "    return f\"{name} ({age})\""
   ]
  },
  {
   "cell_type": "code",
   "execution_count": 205,
   "id": "d463e806-221f-4e69-a9f3-d1d70a304495",
   "metadata": {},
   "outputs": [
    {
     "data": {
      "text/plain": [
       "'John (30)'"
      ]
     },
     "execution_count": 205,
     "metadata": {},
     "output_type": "execute_result"
    }
   ],
   "source": [
    "wrong_user_display()"
   ]
  },
  {
   "cell_type": "code",
   "execution_count": 206,
   "id": "454ed7e4-bbe1-4255-ba46-7f85d2f3f782",
   "metadata": {},
   "outputs": [
    {
     "data": {
      "text/plain": [
       "'kang (20)'"
      ]
     },
     "execution_count": 206,
     "metadata": {},
     "output_type": "execute_result"
    }
   ],
   "source": [
    "wrong_user_display({\"name\":\"kang\", \"age\":20})"
   ]
  },
  {
   "cell_type": "code",
   "execution_count": 207,
   "id": "134507fd-1ae8-4f49-b30b-9b1542b93bf6",
   "metadata": {},
   "outputs": [
    {
     "ename": "KeyError",
     "evalue": "'name'",
     "output_type": "error",
     "traceback": [
      "\u001b[1;31m---------------------------------------------------------------------------\u001b[0m",
      "\u001b[1;31mKeyError\u001b[0m                                  Traceback (most recent call last)",
      "Input \u001b[1;32mIn [207]\u001b[0m, in \u001b[0;36m<cell line: 1>\u001b[1;34m()\u001b[0m\n\u001b[1;32m----> 1\u001b[0m \u001b[43mwrong_user_display\u001b[49m\u001b[43m(\u001b[49m\u001b[43m)\u001b[49m\n",
      "Input \u001b[1;32mIn [204]\u001b[0m, in \u001b[0;36mwrong_user_display\u001b[1;34m(user_metadata)\u001b[0m\n\u001b[0;32m      1\u001b[0m \u001b[38;5;28;01mdef\u001b[39;00m \u001b[38;5;21mwrong_user_display\u001b[39m(user_metadata: \u001b[38;5;28mdict\u001b[39m \u001b[38;5;241m=\u001b[39m {\u001b[38;5;124m\"\u001b[39m\u001b[38;5;124mname\u001b[39m\u001b[38;5;124m\"\u001b[39m:\u001b[38;5;124m\"\u001b[39m\u001b[38;5;124mJohn\u001b[39m\u001b[38;5;124m\"\u001b[39m, \u001b[38;5;124m\"\u001b[39m\u001b[38;5;124mage\u001b[39m\u001b[38;5;124m\"\u001b[39m:\u001b[38;5;241m30\u001b[39m}):\n\u001b[1;32m----> 2\u001b[0m     name \u001b[38;5;241m=\u001b[39m \u001b[43muser_metadata\u001b[49m\u001b[38;5;241;43m.\u001b[39;49m\u001b[43mpop\u001b[49m\u001b[43m(\u001b[49m\u001b[38;5;124;43m\"\u001b[39;49m\u001b[38;5;124;43mname\u001b[39;49m\u001b[38;5;124;43m\"\u001b[39;49m\u001b[43m)\u001b[49m\n\u001b[0;32m      3\u001b[0m     age \u001b[38;5;241m=\u001b[39m user_metadata\u001b[38;5;241m.\u001b[39mpop(\u001b[38;5;124m\"\u001b[39m\u001b[38;5;124mage\u001b[39m\u001b[38;5;124m\"\u001b[39m)\n\u001b[0;32m      4\u001b[0m     \u001b[38;5;28;01mreturn\u001b[39;00m \u001b[38;5;124mf\u001b[39m\u001b[38;5;124m\"\u001b[39m\u001b[38;5;132;01m{\u001b[39;00mname\u001b[38;5;132;01m}\u001b[39;00m\u001b[38;5;124m (\u001b[39m\u001b[38;5;132;01m{\u001b[39;00mage\u001b[38;5;132;01m}\u001b[39;00m\u001b[38;5;124m)\u001b[39m\u001b[38;5;124m\"\u001b[39m\n",
      "\u001b[1;31mKeyError\u001b[0m: 'name'"
     ]
    }
   ],
   "source": [
    "wrong_user_display()"
   ]
  },
  {
   "cell_type": "markdown",
   "id": "277a00b6-d7ae-40a5-b2b0-edbbb46f29f9",
   "metadata": {},
   "source": [
    "- 함수 호출시 생성된 객체 메모리에 할당된 key값을 지워버렸기 때문에 에러발생"
   ]
  },
  {
   "cell_type": "code",
   "execution_count": 208,
   "id": "448c0adf-3555-4f4c-b1ad-97ea4faef87a",
   "metadata": {},
   "outputs": [],
   "source": [
    "def good_user_display(user = None):\n",
    "    user_metadata = {\"name\":\"John\", \"age\":30} # 기본값?\n",
    "\n",
    "    def display(user_metadata = user_metadata):\n",
    "        name = user_metadata.pop(\"name\")\n",
    "        age = user_metadata.pop(\"age\")\n",
    "        return f\"{name} ({age})\"\n",
    "\n",
    "    return display(user)"
   ]
  },
  {
   "cell_type": "markdown",
   "id": "2107d750-6d0a-440a-a6b7-ff27ff7aaaef",
   "metadata": {},
   "source": [
    "- None 값으로 지정해주면 해결!"
   ]
  },
  {
   "cell_type": "markdown",
   "id": "99372ac5-a6cb-4711-8709-0dbd85065732",
   "metadata": {},
   "source": [
    "### 내장(built-in) 타입 확장\n",
    "- 리스트, 문자열, 사전과 같은 내장 타입을 확장하는 올바른 방법은 collections 모듈을 사용하는 것\n",
    "- 내장 함수에서 override가 동작하지 않음"
   ]
  },
  {
   "cell_type": "code",
   "execution_count": 209,
   "id": "78442472-b4a3-4eab-af94-5a96a44e29e8",
   "metadata": {},
   "outputs": [],
   "source": [
    "class BadList(list):\n",
    "    def __getitem__(self, index):\n",
    "        value = super().__getitem__(index)\n",
    "        if index % 2 == 0:\n",
    "            prefix = \"짝수\"\n",
    "            \n",
    "        else:\n",
    "            prefix = \"홀수\"\n",
    "        return f\"[{prefix}] {value}\""
   ]
  },
  {
   "cell_type": "code",
   "execution_count": 210,
   "id": "c2d909c5-f316-4938-950b-8e48dfe11971",
   "metadata": {},
   "outputs": [],
   "source": [
    "b1 = BadList((0,1,2,3,4,5))"
   ]
  },
  {
   "cell_type": "code",
   "execution_count": 222,
   "id": "7b61d779-9acc-4a18-be37-6d16d82d0028",
   "metadata": {},
   "outputs": [
    {
     "data": {
      "text/plain": [
       "'[짝수] 0'"
      ]
     },
     "execution_count": 222,
     "metadata": {},
     "output_type": "execute_result"
    }
   ],
   "source": [
    "b1[0]"
   ]
  },
  {
   "cell_type": "code",
   "execution_count": 213,
   "id": "c45c480d-361a-43b4-9cca-8a2484531486",
   "metadata": {},
   "outputs": [
    {
     "data": {
      "text/plain": [
       "'[홀수] 1'"
      ]
     },
     "execution_count": 213,
     "metadata": {},
     "output_type": "execute_result"
    }
   ],
   "source": [
    "b1[1]"
   ]
  },
  {
   "cell_type": "code",
   "execution_count": 214,
   "id": "bb924079-582e-4d1b-a0ac-b8bf3d5a69c1",
   "metadata": {},
   "outputs": [
    {
     "ename": "TypeError",
     "evalue": "sequence item 0: expected str instance, int found",
     "output_type": "error",
     "traceback": [
      "\u001b[1;31m---------------------------------------------------------------------------\u001b[0m",
      "\u001b[1;31mTypeError\u001b[0m                                 Traceback (most recent call last)",
      "Input \u001b[1;32mIn [214]\u001b[0m, in \u001b[0;36m<cell line: 1>\u001b[1;34m()\u001b[0m\n\u001b[1;32m----> 1\u001b[0m \u001b[38;5;124;43m\"\u001b[39;49m\u001b[38;5;124;43m\"\u001b[39;49m\u001b[38;5;241;43m.\u001b[39;49m\u001b[43mjoin\u001b[49m\u001b[43m(\u001b[49m\u001b[43mb1\u001b[49m\u001b[43m)\u001b[49m\n",
      "\u001b[1;31mTypeError\u001b[0m: sequence item 0: expected str instance, int found"
     ]
    }
   ],
   "source": [
    "\"\".join(b1)"
   ]
  },
  {
   "cell_type": "code",
   "execution_count": 220,
   "id": "e27e2658-0c0d-4933-81c6-ef1295b02b23",
   "metadata": {},
   "outputs": [
    {
     "data": {
      "text/plain": [
       "'123'"
      ]
     },
     "execution_count": 220,
     "metadata": {},
     "output_type": "execute_result"
    }
   ],
   "source": [
    "list1 = ['1','2','3']\n",
    "\n",
    "\"\".join(list1)"
   ]
  },
  {
   "cell_type": "code",
   "execution_count": 223,
   "id": "96bfd7b2-a8be-4449-9784-bed2c5152211",
   "metadata": {},
   "outputs": [],
   "source": [
    "from collections import UserList\n",
    "\n",
    "class GoodList(UserList):\n",
    "    def __getitem__(self, index):\n",
    "        value = super().__getitem__(index)\n",
    "        if index % 2 == 0:\n",
    "            prefix = \"짝수\"\n",
    "            \n",
    "        else:\n",
    "            prefix = \"홀수\"\n",
    "        return f\"[{prefix}] {value}\""
   ]
  },
  {
   "cell_type": "code",
   "execution_count": 224,
   "id": "63734736-8c6e-4bf3-ab9f-0f354d456b1b",
   "metadata": {},
   "outputs": [
    {
     "data": {
      "text/plain": [
       "'[짝수] 0'"
      ]
     },
     "execution_count": 224,
     "metadata": {},
     "output_type": "execute_result"
    }
   ],
   "source": [
    "g1 = GoodList((0,1,2,3,4))\n",
    "g1[0]"
   ]
  },
  {
   "cell_type": "code",
   "execution_count": 225,
   "id": "e4b52982-b334-4c59-991c-051f72a93f8f",
   "metadata": {},
   "outputs": [
    {
     "data": {
      "text/plain": [
       "'[짝수] 0;[홀수] 1;[짝수] 2;[홀수] 3;[짝수] 4'"
      ]
     },
     "execution_count": 225,
     "metadata": {},
     "output_type": "execute_result"
    }
   ],
   "source": [
    "\";\".join(g1)"
   ]
  },
  {
   "cell_type": "code",
   "execution_count": null,
   "id": "a1ab6b33-bc8c-4a81-82e5-8fb7662777fa",
   "metadata": {},
   "outputs": [],
   "source": []
  }
 ],
 "metadata": {
  "kernelspec": {
   "display_name": "Python 3 (ipykernel)",
   "language": "python",
   "name": "python3"
  },
  "language_info": {
   "codemirror_mode": {
    "name": "ipython",
    "version": 3
   },
   "file_extension": ".py",
   "mimetype": "text/x-python",
   "name": "python",
   "nbconvert_exporter": "python",
   "pygments_lexer": "ipython3",
   "version": "3.9.7"
  }
 },
 "nbformat": 4,
 "nbformat_minor": 5
}
