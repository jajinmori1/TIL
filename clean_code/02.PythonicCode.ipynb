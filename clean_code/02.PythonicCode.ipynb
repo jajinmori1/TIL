{
 "cells": [
  {
   "cell_type": "markdown",
   "id": "971bedc5-b281-4ef5-9072-dd17efb103f1",
   "metadata": {},
   "source": [
    "## Chapter 2. 파이썬스러운(pythonic) 코드"
   ]
  },
  {
   "cell_type": "code",
   "execution_count": null,
   "id": "2babac2a-3e0d-4441-a930-d203ba40045c",
   "metadata": {},
   "outputs": [],
   "source": []
  }
 ],
 "metadata": {
  "kernelspec": {
   "display_name": "Python 3 (ipykernel)",
   "language": "python",
   "name": "python3"
  },
  "language_info": {
   "codemirror_mode": {
    "name": "ipython",
    "version": 3
   },
   "file_extension": ".py",
   "mimetype": "text/x-python",
   "name": "python",
   "nbconvert_exporter": "python",
   "pygments_lexer": "ipython3",
   "version": "3.9.10"
  }
 },
 "nbformat": 4,
 "nbformat_minor": 5
}
