{
 "cells": [
  {
   "cell_type": "markdown",
   "id": "971bedc5-b281-4ef5-9072-dd17efb103f1",
   "metadata": {},
   "source": [
    "## Chapter 2. 파이썬스러운(pythonic) 코드"
   ]
  },
  {
   "cell_type": "code",
   "execution_count": 2,
   "id": "2babac2a-3e0d-4441-a930-d203ba40045c",
   "metadata": {},
   "outputs": [
    {
     "name": "stdout",
     "output_type": "stream",
     "text": [
      "음수 인덱스: 9 5\n",
      "slice 1: (3, 9)\n",
      "slice 2: (4, 5, 3)\n",
      "slice 3: (9,)\n",
      "slice 4: (9, 3, 5, 4)\n",
      "\n",
      "\n",
      "slice index: (5, 9)\n",
      "slice object: (5, 9)\n",
      "\n",
      "\n",
      "slice object vs index: True\n"
     ]
    }
   ],
   "source": [
    "my_numbers = (4, 5, 3, 9)\n",
    "\n",
    "print(\"음수 인덱스:\", my_numbers[-1], my_numbers[-3])\n",
    "print(\"slice 1:\", my_numbers[2:5])\n",
    "print(\"slice 2:\", my_numbers[:3])\n",
    "print(\"slice 3:\", my_numbers[3:])\n",
    "print(\"slice 4:\", my_numbers[::-1])\n",
    "\n",
    "print(\"\\n\")\n",
    "print(\"slice index:\", my_numbers[1:7:2])\n",
    "print(\"slice object:\", my_numbers[slice(1, 7, 2)])\n",
    "\n",
    "print(\"\\n\")\n",
    "interval = slice(None, 3)\n",
    "print(\"slice object vs index:\", my_numbers[interval] == my_numbers[:3])"
   ]
  },
  {
   "cell_type": "code",
   "execution_count": null,
   "id": "a0636889-6ea6-4a2d-8bac-df05d45966e3",
   "metadata": {},
   "outputs": [],
   "source": []
  },
  {
   "cell_type": "code",
   "execution_count": null,
   "id": "bc2188c6-83f4-4f1e-9179-6d7055adf075",
   "metadata": {},
   "outputs": [],
   "source": []
  }
 ],
 "metadata": {
  "kernelspec": {
   "display_name": "Python 3 (ipykernel)",
   "language": "python",
   "name": "python3"
  },
  "language_info": {
   "codemirror_mode": {
    "name": "ipython",
    "version": 3
   },
   "file_extension": ".py",
   "mimetype": "text/x-python",
   "name": "python",
   "nbconvert_exporter": "python",
   "pygments_lexer": "ipython3",
   "version": "3.9.10"
  }
 },
 "nbformat": 4,
 "nbformat_minor": 5
}
