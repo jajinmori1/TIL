{
 "cells": [
  {
   "cell_type": "markdown",
   "metadata": {},
   "source": [
    "### Docstring 과 annotation"
   ]
  },
  {
   "cell_type": "code",
   "execution_count": 19,
   "metadata": {},
   "outputs": [],
   "source": [
    "def my_function1():\n",
    "  \"\"\"임의의 계산 실행\"\"\"\n",
    "  return None"
   ]
  },
  {
   "cell_type": "code",
   "execution_count": 20,
   "metadata": {},
   "outputs": [
    {
     "data": {
      "text/plain": [
       "'임의의 계산 실행'"
      ]
     },
     "execution_count": 20,
     "metadata": {},
     "output_type": "execute_result"
    }
   ],
   "source": [
    "my_function1.__doc__"
   ]
  },
  {
   "cell_type": "code",
   "execution_count": 25,
   "metadata": {},
   "outputs": [],
   "source": [
    "class Point:\n",
    "  def __init__(self, lat, long):\n",
    "    self.lat = lat\n",
    "    self.long = long\n",
    "\n",
    "def locate(latitude: float, longitude: float) -> Point:\n",
    "    \"\"\"맵에서 좌표에 해당하는 객체 검색\"\"\""
   ]
  },
  {
   "cell_type": "code",
   "execution_count": 26,
   "metadata": {},
   "outputs": [
    {
     "data": {
      "text/plain": [
       "{'latitude': float, 'longitude': float, 'return': __main__.Point}"
      ]
     },
     "execution_count": 26,
     "metadata": {},
     "output_type": "execute_result"
    }
   ],
   "source": [
    "locate.__annotations__"
   ]
  },
  {
   "cell_type": "code",
   "execution_count": 17,
   "metadata": {},
   "outputs": [],
   "source": [
    "def data_from_response(response: dict) -> dict:\n",
    "  \"\"\"response에 문제가 없다면 response의 payload를 반환\n",
    "  - reponse 사전의 예제::\n",
    "  {\n",
    "    \"status\":200, # <int>\n",
    "    \"timestamp\":\"....\", # 현재 시간의 ISO 포맷 문자열\n",
    "    \"payload\": { ... } # 반환하려는 사전 데이터\n",
    "  }\n",
    "  \n",
    "  - 반환 사전 값의 예제::\n",
    "  {\"data\": { .. }}\n",
    "  \n",
    "  - 발생 가능한 예외::\n",
    "  - HTTP status가 200이 아닌 경우 ValueError 발생\n",
    "  \"\"\"\n",
    "  if response[\"STATUS\"] != 200:\n",
    "    raise ValueError\n",
    "  return {\"data\": response[\"payload\"]}"
   ]
  },
  {
   "cell_type": "code",
   "execution_count": 18,
   "metadata": {},
   "outputs": [],
   "source": [
    "type_to_ignore = \"something\" # type: ignore"
   ]
  },
  {
   "cell_type": "code",
   "execution_count": null,
   "metadata": {},
   "outputs": [],
   "source": []
  },
  {
   "cell_type": "code",
   "execution_count": null,
   "metadata": {},
   "outputs": [],
   "source": []
  }
 ],
 "metadata": {
  "interpreter": {
   "hash": "fcc4d5a06ade41c47d75bfe64e994a875ef2804531aa9bda65d08b1ccbd78388"
  },
  "kernelspec": {
   "display_name": "Python 3.9.10 64-bit",
   "language": "python",
   "name": "python3"
  },
  "language_info": {
   "codemirror_mode": {
    "name": "ipython",
    "version": 3
   },
   "file_extension": ".py",
   "mimetype": "text/x-python",
   "name": "python",
   "nbconvert_exporter": "python",
   "pygments_lexer": "ipython3",
   "version": "3.9.10"
  },
  "orig_nbformat": 4
 },
 "nbformat": 4,
 "nbformat_minor": 2
}
